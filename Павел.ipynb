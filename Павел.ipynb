{
 "cells": [
  {
   "cell_type": "markdown",
   "metadata": {},
   "source": [
    "# Импорты необходимых библиотек"
   ]
  },
  {
   "cell_type": "code",
   "execution_count": 196,
   "metadata": {
    "ExecuteTime": {
     "end_time": "2021-07-31T12:08:49.454774Z",
     "start_time": "2021-07-31T12:08:48.558688Z"
    }
   },
   "outputs": [],
   "source": [
    "from typing import Tuple, Callable, List\n",
    "\n",
    "import numpy as np\n",
    "import scipy\n",
    "import matplotlib.pyplot as plt\n",
    "import scipy.stats\n",
    "import seaborn as sns\n",
    "\n",
    "%matplotlib inline"
   ]
  },
  {
   "cell_type": "code",
   "execution_count": 135,
   "metadata": {},
   "outputs": [],
   "source": [
    "np.random.seed(73)"
   ]
  },
  {
   "cell_type": "markdown",
   "metadata": {},
   "source": [
    "# Проблема"
   ]
  },
  {
   "cell_type": "markdown",
   "metadata": {},
   "source": [
    "Сгенерируем данные с одинаковыми средними"
   ]
  },
  {
   "cell_type": "code",
   "execution_count": 220,
   "metadata": {
    "ExecuteTime": {
     "end_time": "2021-07-31T12:10:09.278319Z",
     "start_time": "2021-07-31T12:10:09.274945Z"
    }
   },
   "outputs": [],
   "source": [
    "data_fst = np.random.normal(\n",
    "    loc=10,                                     # mean\n",
    "    scale=10,                                   # std\n",
    "    size=100,\n",
    ")\n",
    "data_snd = np.random.normal(10, 1, size=100)"
   ]
  },
  {
   "cell_type": "markdown",
   "metadata": {},
   "source": [
    "Если мы посмотрим на средние значения выборок, то они конечно же будут различны"
   ]
  },
  {
   "cell_type": "code",
   "execution_count": 235,
   "metadata": {},
   "outputs": [
    {
     "data": {
      "text/plain": [
       "<matplotlib.lines.Line2D at 0x1313dafa0>"
      ]
     },
     "execution_count": 235,
     "metadata": {},
     "output_type": "execute_result"
    },
    {
     "data": {
      "image/png": "[encoded data removed]",
      "text/plain": [
       "<Figure size 640x480 with 1 Axes>"
      ]
     },
     "metadata": {},
     "output_type": "display_data"
    }
   ],
   "source": [
    "sns.histplot(data_fst, alpha=0.3)\n",
    "sns.histplot(data_snd, color=\"coral\", alpha=0.3)\n",
    "plt.axvline(x=data_fst.mean(), linewidth=3)\n",
    "plt.axvline(x=data_snd.mean(), color=\"coral\", linewidth=3)"
   ]
  },
  {
   "cell_type": "markdown",
   "metadata": {},
   "source": [
    "Но если средние выборок разные, то числа также могут не сильно отличаться"
   ]
  },
  {
   "cell_type": "code",
   "execution_count": 236,
   "metadata": {},
   "outputs": [],
   "source": [
    "data_fst = np.random.normal(10, 10, size=100)\n",
    "data_snd = np.random.normal(11, 1, size=100)"
   ]
  },
  {
   "cell_type": "code",
   "execution_count": 237,
   "metadata": {},
   "outputs": [
    {
     "data": {
      "text/plain": [
       "<matplotlib.lines.Line2D at 0x1316f1fd0>"
      ]
     },
     "execution_count": 237,
     "metadata": {},
     "output_type": "execute_result"
    },
    {
     "data": {
      "image/png": "[encoded data removed]",
      "text/plain": [
       "<Figure size 640x480 with 1 Axes>"
      ]
     },
     "metadata": {},
     "output_type": "display_data"
    }
   ],
   "source": [
    "sns.histplot(data_fst, alpha=0.3)\n",
    "sns.histplot(data_snd, color=\"coral\", alpha=0.3)\n",
    "plt.axvline(x=data_fst.mean(), linewidth=3)\n",
    "plt.axvline(x=data_snd.mean(), color=\"coral\", linewidth=3)"
   ]
  },
  {
   "cell_type": "markdown",
   "metadata": {},
   "source": [
    "**Здесь появляется проблема:** как оценить средние двух выборок? Из одного они распределения или из разных?"
   ]
  },
  {
   "cell_type": "markdown",
   "metadata": {},
   "source": [
    "# Использование ЦПТ"
   ]
  },
  {
   "cell_type": "markdown",
   "metadata": {},
   "source": [
    "### Можно воспользоваться ЦПТ и получить доверительный интервал для среднего"
   ]
  },
  {
   "cell_type": "markdown",
   "metadata": {},
   "source": [
    "#### Напоминание ЦПТ:\n",
    "Пусть $\\xi_1, \\xi_2, \\dots$ - независимые одинаково распределённые случайные величины с конечной дисперсией $D \\xi_1$ и мат. ожиданием $E \\xi_1$, тогда\n",
    "\n",
    "$\\sqrt{\\frac{n}{D \\xi_1}} \\left(\\frac{\\sum\\limits_{i=1}^{n} \\xi_i}{n} - E \\xi_1\\right) \\to_{n \\to \\infty} \\mathcal{N}(0, 1)$ \n",
    "\n",
    "Отсюда можно сделать вывод, что при больших $n$ величина $\\frac{\\sum\\limits_{i=1}^{n} \\xi_i}{n}$ будет распределена примерно как $\\mathcal{N}(E \\xi_1, \\frac{D \\xi_1}{n})$\n",
    "\n",
    "Если бы мы знали $D \\xi_1$, то отсюда можно получить интервал на $E \\xi_1$:\n",
    "$$\n",
    "P\\left(E \\xi_1 \\in \\left[\\frac{\\sum\\limits_{i=1}^{n} \\xi_i}{n} - 1.96 \\sqrt{\\frac{D \\xi_1}{n}}, \\frac{\\sum\\limits_{i=1}^{n} \\xi_i}{n} + 1.96 \\sqrt{\\frac{D \\xi_1}{n}}\\right]\\right) \\approx 0.95\n",
    "$$\n",
    "\n",
    "$D \\xi_1$ можно оценить по выборке"
   ]
  },
  {
   "cell_type": "markdown",
   "metadata": {},
   "source": [
    "Напишем функцию для получения доверительного интервала для среднего конкретной выборки:"
   ]
  },
  {
   "cell_type": "code",
   "execution_count": 51,
   "metadata": {
    "ExecuteTime": {
     "end_time": "2021-07-31T12:12:25.702931Z",
     "start_time": "2021-07-31T12:12:25.698123Z"
    }
   },
   "outputs": [],
   "source": [
    "def get_95_interval(data: list, sigma: float=None) -> Tuple[float]:\n",
    "    \"\"\"Получение доверительного интервала для срееднего выборки\n",
    "\n",
    "    Args:\n",
    "        data (list): Выборка\n",
    "        sigma (float, optional): Дисперсия генеральной совокупности. Defaults to None.\n",
    "\n",
    "    Returns:\n",
    "        Tuple[float]: Доверительный интервал вида (left_bound, right_bound)\n",
    "    \"\"\"\n",
    "    mean = data.mean()\n",
    "    if sigma is None:\n",
    "        sigma = data.std()\n",
    "    err = sigma * 1.96 / np.sqrt(len(data))\n",
    "\n",
    "    return mean - err, mean + err"
   ]
  },
  {
   "cell_type": "markdown",
   "metadata": {},
   "source": [
    "Напишем еще одну функцию для оценки того, что доверительный интервал действительно содержит истинное среднее выборки:"
   ]
  },
  {
   "cell_type": "code",
   "execution_count": 57,
   "metadata": {},
   "outputs": [],
   "source": [
    "def get_interval_proba(\n",
    "        loc: float,\n",
    "        scale: float, \n",
    "        size: int, \n",
    "        use_true_sigma: bool = False, \n",
    "        iterations: int = 10000,\n",
    "    ) -> float:\n",
    "    \"\"\"Функция для оценки вероятности того, что истинное значение среднего выборки лежит в пределах интверала из функции `get_95_interval`\n",
    "\n",
    "    Args:\n",
    "        loc (float): Среднее выборки\n",
    "        scale (float): Стандартное отклонение выборки\n",
    "        size (int): Размер выборки\n",
    "        true_sigma (float, optional): Дисперсия генеральной совокупности. Defaults to None.\n",
    "        iterations (int, optional): Количество итераций для оценки вероятности. Defaults to 10000.\n",
    "\n",
    "    Returns:\n",
    "        float: Вероятность попадания истинного значения среднего в предполагаемый интервал\n",
    "    \"\"\"\n",
    "    hits = 0\n",
    "    sigma = scale if use_true_sigma else None\n",
    "\n",
    "    for _ in range(iterations):\n",
    "        data = np.random.normal(loc, scale, size=size)\n",
    "        lower_bound, upper_bound = get_95_interval(data, sigma=sigma)\n",
    "\n",
    "        if lower_bound <= loc <= upper_bound:\n",
    "            hits += 1\n",
    "    \n",
    "    return hits / iterations"
   ]
  },
  {
   "cell_type": "markdown",
   "metadata": {},
   "source": [
    "Теперь проверим корректность получаемых интервалов:"
   ]
  },
  {
   "cell_type": "code",
   "execution_count": 58,
   "metadata": {},
   "outputs": [
    {
     "data": {
      "text/plain": [
       "0.9487"
      ]
     },
     "execution_count": 58,
     "metadata": {},
     "output_type": "execute_result"
    }
   ],
   "source": [
    "get_interval_proba(loc=10, scale=10, size=100)"
   ]
  },
  {
   "cell_type": "markdown",
   "metadata": {},
   "source": [
    "Однако, если данных мало, то оценка неправильна"
   ]
  },
  {
   "cell_type": "code",
   "execution_count": 59,
   "metadata": {},
   "outputs": [
    {
     "data": {
      "text/plain": [
       "0.9016"
      ]
     },
     "execution_count": 59,
     "metadata": {},
     "output_type": "execute_result"
    }
   ],
   "source": [
    "get_interval_proba(10, 10, size=10)"
   ]
  },
  {
   "cell_type": "markdown",
   "metadata": {},
   "source": [
    "Подставим реальное значение дисперсии и всё снова заработает"
   ]
  },
  {
   "cell_type": "code",
   "execution_count": 60,
   "metadata": {},
   "outputs": [
    {
     "data": {
      "text/plain": [
       "0.9503"
      ]
     },
     "execution_count": 60,
     "metadata": {},
     "output_type": "execute_result"
    }
   ],
   "source": [
    "get_interval_proba(10, 10, 10, use_true_sigma=True)"
   ]
  },
  {
   "cell_type": "markdown",
   "metadata": {},
   "source": [
    "Итак, у нас две выборки с гигантской разницей в среднем"
   ]
  },
  {
   "cell_type": "code",
   "execution_count": 39,
   "metadata": {
    "ExecuteTime": {
     "end_time": "2021-07-31T12:17:15.027943Z",
     "start_time": "2021-07-31T12:17:15.022869Z"
    }
   },
   "outputs": [
    {
     "name": "stdout",
     "output_type": "stream",
     "text": [
      "(9.02278704552332, 13.441653928894379)\n",
      "(99.74272844774913, 100.13803493726721)\n"
     ]
    }
   ],
   "source": [
    "data_fst = np.random.normal(10.5, 10, size=100)\n",
    "data_snd = np.random.normal(100, 1, size=100)\n",
    "\n",
    "print(get_95_interval(data_fst))\n",
    "print(get_95_interval(data_snd))"
   ]
  },
  {
   "cell_type": "markdown",
   "metadata": {},
   "source": [
    "Конечно же интервалы не пересекаются"
   ]
  },
  {
   "cell_type": "markdown",
   "metadata": {},
   "source": [
    "Однако, если разница небольшая, то интервалы могут пересечься:"
   ]
  },
  {
   "cell_type": "code",
   "execution_count": 136,
   "metadata": {
    "ExecuteTime": {
     "end_time": "2021-07-31T12:17:54.405268Z",
     "start_time": "2021-07-31T12:17:54.400700Z"
    }
   },
   "outputs": [
    {
     "data": {
      "text/plain": [
       "(5.0, 15.0)"
      ]
     },
     "execution_count": 136,
     "metadata": {},
     "output_type": "execute_result"
    },
    {
     "data": {
      "image/png": "[encoded data removed]",
      "text/plain": [
       "<Figure size 640x480 with 1 Axes>"
      ]
     },
     "metadata": {},
     "output_type": "display_data"
    }
   ],
   "source": [
    "\"\"\"Повторите эту ячейку несколько раз, пока не убидеитесь в том, что интервалы действительно могут пересечься\"\"\"\n",
    "\n",
    "data_fst = np.random.normal(11, 10, size=500)\n",
    "data_snd = np.random.normal(10, 1, size=100)\n",
    "\n",
    "interval_fst = get_95_interval(data_fst)\n",
    "interval_snd = get_95_interval(data_snd)\n",
    "\n",
    "sns.histplot(data_fst, alpha=0.3)\n",
    "sns.histplot(data_snd, color=\"coral\", alpha=0.3)\n",
    "\n",
    "plt.axvspan(*interval_fst, alpha=0.3, color='blue')\n",
    "plt.axvspan(*interval_snd, alpha=0.3, color='red')\n",
    "\n",
    "plt.xlim(right=15, left=5)"
   ]
  },
  {
   "cell_type": "markdown",
   "metadata": {},
   "source": [
    "Напишем функцию, которая будет оценивать корректность некоторого теста:"
   ]
  },
  {
   "cell_type": "code",
   "execution_count": 144,
   "metadata": {},
   "outputs": [],
   "source": [
    "def get_test_power(\n",
    "        test: Callable,\n",
    "        data_fst_params: Tuple[float, float, int],\n",
    "        data_snd_params: Tuple[float, float, int],\n",
    "        iterations: int = 10000,\n",
    "    ) -> float:\n",
    "        \"\"\"Оценка вероятности того, что некоторый тест срабатывает корректно\n",
    "\n",
    "        Args:\n",
    "            test (Callable): Наш тест, который ена вход принимает две выборки\n",
    "            data_fst_params (Tuple[float, float, int]): Параметры для первой выборки (среднее, отклонение, размер выборки)\n",
    "            data_snd_params (Tuple[float, float, int]): Параметры для второй выборки (среднее, отклонение, размер выборки)\n",
    "            iterations (int, optional): Количество итераций для оценки вероятности. Defaults to 10000.\n",
    "\n",
    "        Returns:\n",
    "            float: Оценка вероятности\n",
    "        \"\"\"\n",
    "        hits = 0\n",
    "\n",
    "        for _ in range(iterations):\n",
    "            data_fst = np.random.normal(*data_fst_params)\n",
    "            data_snd = np.random.normal(*data_snd_params)\n",
    "\n",
    "            hits += test(data_fst, data_snd)\n",
    "\n",
    "        return hits / iterations\n"
   ]
  },
  {
   "cell_type": "markdown",
   "metadata": {},
   "source": [
    "Теперь напишем функцию \"критерия интервалов\", где мы смотрим на то, пересеклись ли интервалы средних двух выборок или нет:"
   ]
  },
  {
   "cell_type": "code",
   "execution_count": 145,
   "metadata": {},
   "outputs": [],
   "source": [
    "def check_interval_intersection(data_fst: np.ndarray, data_snd: np.ndarray) -> bool:\n",
    "    lower_fst, upper_fst = get_95_interval(data_fst)\n",
    "    lower_snd, upper_snd = get_95_interval(data_snd)\n",
    "    \n",
    "    if not (lower_fst <= lower_snd <= upper_fst or lower_fst <= upper_snd <= upper_fst):\n",
    "        return True\n",
    "\n",
    "    return False"
   ]
  },
  {
   "cell_type": "markdown",
   "metadata": {},
   "source": [
    "Давайте посмотрим, как часто такой критерий (доверительные интервалы не пересекаются) будет находить различие в случае, если оно есть. В некотором смысле это мощность критерия."
   ]
  },
  {
   "cell_type": "code",
   "execution_count": 147,
   "metadata": {},
   "outputs": [
    {
     "data": {
      "text/plain": [
       "0.7107"
      ]
     },
     "execution_count": 147,
     "metadata": {},
     "output_type": "execute_result"
    }
   ],
   "source": [
    "get_test_power(\n",
    "    check_interval_intersection,\n",
    "    data_fst_params=(11, 10, 1000),\n",
    "    data_snd_params=(10, 1, 100),\n",
    ")"
   ]
  },
  {
   "cell_type": "markdown",
   "metadata": {},
   "source": [
    "Также проверим, как часто различие будет обнаруживаться, если его нет"
   ]
  },
  {
   "cell_type": "code",
   "execution_count": 149,
   "metadata": {},
   "outputs": [
    {
     "data": {
      "text/plain": [
       "0.0131"
      ]
     },
     "execution_count": 149,
     "metadata": {},
     "output_type": "execute_result"
    }
   ],
   "source": [
    "get_test_power(\n",
    "    check_interval_intersection,\n",
    "    data_fst_params=(10, 10, 1000),\n",
    "    data_snd_params=(10, 1, 100),\n",
    ")"
   ]
  },
  {
   "cell_type": "markdown",
   "metadata": {},
   "source": [
    "Также проверим, как часто различие будет обнаруживаться, если оно есть, но очень маленькое"
   ]
  },
  {
   "cell_type": "code",
   "execution_count": 150,
   "metadata": {},
   "outputs": [
    {
     "data": {
      "text/plain": [
       "0.0189"
      ]
     },
     "execution_count": 150,
     "metadata": {},
     "output_type": "execute_result"
    }
   ],
   "source": [
    "get_test_power(\n",
    "    check_interval_intersection,\n",
    "    data_fst_params=(10.1, 10, 1000),\n",
    "    data_snd_params=(10, 1, 100),\n",
    ")"
   ]
  },
  {
   "cell_type": "markdown",
   "metadata": {},
   "source": [
    "У нас очень маленькая ошибка первого рода (правда мы хотели 0.05), но мощность тоже небольшая\n",
    "\n",
    "**Вывод**: этот способ очень прост, но можно использовать более мощные и подконтрольные критерии"
   ]
  },
  {
   "cell_type": "markdown",
   "metadata": {},
   "source": [
    "В простом варианте давайте вычтем две незавимых случайных величины друг из друга\n",
    "\n",
    "$\\mathcal{N}(a_1, \\sigma_1^2) - \\mathcal{N}(a_2, \\sigma_2^2) \\sim \\mathcal{N}(a_1 - a_2, \\sigma_1^2 + \\sigma_2^2)$ \n",
    "\n",
    "То есть в нашем случае $\\frac{\\sum\\limits_{i=1}^{n^1} \\xi_i^1}{n^1} - \\frac{\\sum\\limits_{i=1}^{n^2} \\xi_i^2}{n^2}$ будет распределена примерно как $\\mathcal{N}(E \\xi_1^1 - E \\xi_1^2, \\frac{D \\xi_1^1}{n^1} + \\frac{D \\xi_1^2}{n^2})$"
   ]
  },
  {
   "cell_type": "markdown",
   "metadata": {},
   "source": [
    "Проверим те же параметры, что и в предыдущем случае"
   ]
  },
  {
   "cell_type": "code",
   "execution_count": 243,
   "metadata": {},
   "outputs": [],
   "source": [
    "def check_(data_fst: np.ndarray, data_snd: np.ndarray) -> bool:                             # TODO: нужно адекватное название функции\n",
    "    mean_diff = data_fst.mean() - data_snd.mean()\n",
    "    std_sum = data_fst.std() ** 2 / len(data_fst) + data_snd.std() ** 2 / len(data_snd)\n",
    "    \n",
    "    stat = mean_diff / np.sqrt(std_sum)\n",
    "\n",
    "    if abs(stat) > 1.96:\n",
    "        return True\n",
    "    return False"
   ]
  },
  {
   "cell_type": "code",
   "execution_count": 244,
   "metadata": {},
   "outputs": [
    {
     "data": {
      "text/plain": [
       "0.8543"
      ]
     },
     "execution_count": 244,
     "metadata": {},
     "output_type": "execute_result"
    }
   ],
   "source": [
    "get_test_power(\n",
    "    check_,\n",
    "    data_fst_params=(11, 10, 1000),\n",
    "    data_snd_params=(10, 1, 100),\n",
    ")"
   ]
  },
  {
   "cell_type": "code",
   "execution_count": 245,
   "metadata": {},
   "outputs": [
    {
     "data": {
      "text/plain": [
       "0.0485"
      ]
     },
     "execution_count": 245,
     "metadata": {},
     "output_type": "execute_result"
    }
   ],
   "source": [
    "get_test_power(\n",
    "    check_,\n",
    "    data_fst_params=(10, 10, 1000),\n",
    "    data_snd_params=(10, 1, 100),\n",
    ")"
   ]
  },
  {
   "cell_type": "code",
   "execution_count": 246,
   "metadata": {},
   "outputs": [
    {
     "data": {
      "text/plain": [
       "0.0623"
      ]
     },
     "execution_count": 246,
     "metadata": {},
     "output_type": "execute_result"
    }
   ],
   "source": [
    "get_test_power(\n",
    "    check_,\n",
    "    data_fst_params=(10.1, 10, 1000),\n",
    "    data_snd_params=(10, 1, 100),\n",
    ")"
   ]
  },
  {
   "cell_type": "markdown",
   "metadata": {},
   "source": [
    "Это уже более похоже на то, чего нам бы хотелось"
   ]
  },
  {
   "cell_type": "markdown",
   "metadata": {},
   "source": [
    "# SciPy tests"
   ]
  },
  {
   "cell_type": "markdown",
   "metadata": {},
   "source": [
    "Каждый раз писать такие критерии было чересчур, тем более в модуле scipy всё уже есть"
   ]
  },
  {
   "cell_type": "markdown",
   "metadata": {},
   "source": [
    "Например, в scipy есть куча различных тестов, в которых уже все формулы написаны и надо просто вызвать функцию"
   ]
  },
  {
   "cell_type": "code",
   "execution_count": 164,
   "metadata": {},
   "outputs": [],
   "source": [
    "data_fst = np.random.normal(10, 10, size=100)\n",
    "data_snd = np.random.normal(11, 1, size=100)"
   ]
  },
  {
   "cell_type": "code",
   "execution_count": 165,
   "metadata": {
    "ExecuteTime": {
     "end_time": "2021-07-31T12:23:51.033649Z",
     "start_time": "2021-07-31T12:23:51.022442Z"
    }
   },
   "outputs": [
    {
     "data": {
      "text/plain": [
       "0.09778014613937475"
      ]
     },
     "execution_count": 165,
     "metadata": {},
     "output_type": "execute_result"
    }
   ],
   "source": [
    "scipy.stats.ttest_ind(data_fst, data_snd).pvalue"
   ]
  },
  {
   "cell_type": "markdown",
   "metadata": {},
   "source": [
    "Напишем функцию для оценки T-test'а из пакет scipy:"
   ]
  },
  {
   "cell_type": "code",
   "execution_count": 252,
   "metadata": {},
   "outputs": [],
   "source": [
    "def check_ttest_pval(data_fst: np.ndarray, data_snd: np.ndarray) -> bool:\n",
    "    if scipy.stats.ttest_ind(data_fst, data_snd).pvalue < 0.05:\n",
    "        return True\n",
    "    return False"
   ]
  },
  {
   "cell_type": "code",
   "execution_count": 253,
   "metadata": {},
   "outputs": [
    {
     "data": {
      "text/plain": [
       "0.0023"
      ]
     },
     "execution_count": 253,
     "metadata": {},
     "output_type": "execute_result"
    }
   ],
   "source": [
    "get_test_power(\n",
    "    check_ttest_pval,\n",
    "    data_fst_params=(11, 10, 1000),\n",
    "    data_snd_params=(10, 1, 100),\n",
    ")"
   ]
  },
  {
   "cell_type": "code",
   "execution_count": 254,
   "metadata": {},
   "outputs": [
    {
     "data": {
      "text/plain": [
       "0.0"
      ]
     },
     "execution_count": 254,
     "metadata": {},
     "output_type": "execute_result"
    }
   ],
   "source": [
    "get_test_power(\n",
    "    check_ttest_pval,\n",
    "    data_fst_params=(10, 10, 1000),\n",
    "    data_snd_params=(10, 1, 100),\n",
    ")"
   ]
  },
  {
   "cell_type": "markdown",
   "metadata": {},
   "source": [
    "сломалось("
   ]
  },
  {
   "cell_type": "markdown",
   "metadata": {},
   "source": [
    "Исправим вызов теста в нашей фукнкции оценки:"
   ]
  },
  {
   "cell_type": "code",
   "execution_count": 255,
   "metadata": {},
   "outputs": [],
   "source": [
    "def check_ttest_pval(data_fst: np.ndarray, data_snd: np.ndarray) -> bool:\n",
    "    if scipy.stats.ttest_ind(data_fst, data_snd, equal_var=False).pvalue < 0.05:\n",
    "        return True\n",
    "    return False"
   ]
  },
  {
   "cell_type": "code",
   "execution_count": 256,
   "metadata": {},
   "outputs": [
    {
     "data": {
      "text/plain": [
       "0.8556"
      ]
     },
     "execution_count": 256,
     "metadata": {},
     "output_type": "execute_result"
    }
   ],
   "source": [
    "get_test_power(\n",
    "    check_ttest_pval,\n",
    "    data_fst_params=(11, 10, 1000),\n",
    "    data_snd_params=(10, 1, 100),\n",
    ")"
   ]
  },
  {
   "cell_type": "code",
   "execution_count": 257,
   "metadata": {},
   "outputs": [
    {
     "data": {
      "text/plain": [
       "0.0469"
      ]
     },
     "execution_count": 257,
     "metadata": {},
     "output_type": "execute_result"
    }
   ],
   "source": [
    "get_test_power(\n",
    "    check_ttest_pval,\n",
    "    data_fst_params=(10, 10, 1000),\n",
    "    data_snd_params=(10, 1, 100),\n",
    ")"
   ]
  },
  {
   "cell_type": "markdown",
   "metadata": {},
   "source": [
    "Примерно как и ЦПТ, только не надо париться с формулами"
   ]
  },
  {
   "cell_type": "markdown",
   "metadata": {},
   "source": [
    "Давайте попробуем другой тест.\n",
    "\n",
    "Например, Мана-Уитни:"
   ]
  },
  {
   "cell_type": "code",
   "execution_count": 258,
   "metadata": {},
   "outputs": [],
   "source": [
    "def check_mannwhitneyu_pval(data_fst: np.ndarray, data_snd: np.ndarray) -> bool:\n",
    "    if scipy.stats.mannwhitneyu(data_fst, data_snd, alternative='two-sided').pvalue < 0.05:\n",
    "        return True\n",
    "    return False"
   ]
  },
  {
   "cell_type": "code",
   "execution_count": 259,
   "metadata": {},
   "outputs": [
    {
     "data": {
      "text/plain": [
       "0.1046"
      ]
     },
     "execution_count": 259,
     "metadata": {},
     "output_type": "execute_result"
    }
   ],
   "source": [
    "get_test_power(\n",
    "    check_mannwhitneyu_pval,\n",
    "    data_fst_params=(11, 10, 1000),\n",
    "    data_snd_params=(10, 1, 100),\n",
    ")"
   ]
  },
  {
   "cell_type": "code",
   "execution_count": 260,
   "metadata": {},
   "outputs": [
    {
     "data": {
      "text/plain": [
       "0.0002"
      ]
     },
     "execution_count": 260,
     "metadata": {},
     "output_type": "execute_result"
    }
   ],
   "source": [
    "get_test_power(\n",
    "    check_mannwhitneyu_pval,\n",
    "    data_fst_params=(10, 10, 1000),\n",
    "    data_snd_params=(10, 1, 100),\n",
    ")"
   ]
  },
  {
   "cell_type": "code",
   "execution_count": 184,
   "metadata": {},
   "outputs": [
    {
     "data": {
      "text/plain": [
       "0.0006"
      ]
     },
     "execution_count": 184,
     "metadata": {},
     "output_type": "execute_result"
    }
   ],
   "source": [
    "get_test_power(\n",
    "    check_mannwhitneyu_pval,\n",
    "    data_fst_params=(0, 10, 1000),\n",
    "    data_snd_params=(0, 1, 100),\n",
    ")"
   ]
  },
  {
   "cell_type": "markdown",
   "metadata": {},
   "source": [
    "Думаете всё сломалось? Нет, просто у этого критерия другая нулевая гипотеза!"
   ]
  },
  {
   "cell_type": "code",
   "execution_count": 186,
   "metadata": {},
   "outputs": [
    {
     "data": {
      "text/plain": [
       "0.0522"
      ]
     },
     "execution_count": 186,
     "metadata": {},
     "output_type": "execute_result"
    }
   ],
   "source": [
    "get_test_power(\n",
    "    check_mannwhitneyu_pval,\n",
    "    data_fst_params=(0, 1, 1000),\n",
    "    data_snd_params=(0, 1, 100),\n",
    ")"
   ]
  },
  {
   "cell_type": "code",
   "execution_count": 188,
   "metadata": {},
   "outputs": [
    {
     "data": {
      "text/plain": [
       "1.0"
      ]
     },
     "execution_count": 188,
     "metadata": {},
     "output_type": "execute_result"
    }
   ],
   "source": [
    "get_test_power(\n",
    "    check_mannwhitneyu_pval,\n",
    "    data_fst_params=(0, 1, 1000),\n",
    "    data_snd_params=(1, 1, 100),\n",
    ")"
   ]
  },
  {
   "cell_type": "markdown",
   "metadata": {},
   "source": [
    "# О смысле p-value, корректности и мощности"
   ]
  },
  {
   "cell_type": "code",
   "execution_count": 202,
   "metadata": {},
   "outputs": [],
   "source": [
    "def get_pvalues_ttest(\n",
    "        data_fst_params: Tuple[float, float, int],\n",
    "        data_snd_params: Tuple[float, float, int],\n",
    "        iterations: int = 10000,\n",
    "    ) -> List[float]:\n",
    "    pvalues = []\n",
    "    for _ in range(iterations):\n",
    "        data_fst = np.random.normal(*data_fst_params)\n",
    "        data_snd = np.random.normal(*data_snd_params)\n",
    "        pvalues.append(scipy.stats.ttest_ind(data_fst, data_snd).pvalue)\n",
    "        \n",
    "    return np.array(pvalues)"
   ]
  },
  {
   "cell_type": "code",
   "execution_count": 203,
   "metadata": {
    "ExecuteTime": {
     "end_time": "2021-07-31T12:30:00.007248Z",
     "start_time": "2021-07-31T12:29:57.550712Z"
    }
   },
   "outputs": [
    {
     "data": {
      "image/png": "[encoded data removed]",
      "text/plain": [
       "<Figure size 640x480 with 1 Axes>"
      ]
     },
     "metadata": {},
     "output_type": "display_data"
    }
   ],
   "source": [
    "pvalues = get_pvalues_ttest(\n",
    "    data_fst_params=(10, 10, 100),\n",
    "    data_snd_params=(10, 1, 100),\n",
    ")\n",
    "    \n",
    "plt.hist(pvalues)\n",
    "plt.show()"
   ]
  },
  {
   "cell_type": "markdown",
   "metadata": {},
   "source": [
    "Корректность критерия"
   ]
  },
  {
   "cell_type": "code",
   "execution_count": 214,
   "metadata": {},
   "outputs": [
    {
     "name": "stdout",
     "output_type": "stream",
     "text": [
      "0.024191509854355083\n"
     ]
    }
   ],
   "source": [
    "pvalues = get_pvalues_ttest(\n",
    "    data_fst_params=(10, 10, 100),\n",
    "    data_snd_params=(10, 1, 100),\n",
    ")\n",
    "    \n",
    "print(np.mean(pvalues[pvalues < 0.05]))"
   ]
  },
  {
   "cell_type": "code",
   "execution_count": 217,
   "metadata": {
    "ExecuteTime": {
     "end_time": "2021-07-31T12:31:15.963077Z",
     "start_time": "2021-07-31T12:31:13.515968Z"
    }
   },
   "outputs": [
    {
     "name": "stdout",
     "output_type": "stream",
     "text": [
      "0.0576\n"
     ]
    }
   ],
   "source": [
    "bad_pvalues = []\n",
    "for _ in range(10000):\n",
    "    data_fst = np.random.normal(10, 10, size=100)\n",
    "    data_snd = np.random.normal(10, 1, size=100)\n",
    "    bad_pvalues.append(scipy.stats.ttest_ind(data_fst, data_snd).pvalue < 0.05)\n",
    "    \n",
    "print(np.mean(bad_pvalues))"
   ]
  },
  {
   "cell_type": "markdown",
   "metadata": {},
   "source": [
    "Мощность критерия"
   ]
  },
  {
   "cell_type": "code",
   "execution_count": 192,
   "metadata": {
    "ExecuteTime": {
     "end_time": "2021-07-31T12:31:30.136888Z",
     "start_time": "2021-07-31T12:31:27.511617Z"
    }
   },
   "outputs": [
    {
     "name": "stdout",
     "output_type": "stream",
     "text": [
      "0.1708\n"
     ]
    },
    {
     "data": {
      "image/png": "[encoded data removed]",
      "text/plain": [
       "<Figure size 640x480 with 1 Axes>"
      ]
     },
     "metadata": {},
     "output_type": "display_data"
    }
   ],
   "source": [
    "pvalues = []\n",
    "for _ in range(10000):\n",
    "    data_fst = np.random.normal(11, 10, size=100)\n",
    "    data_snd = np.random.normal(10, 1, size=100)\n",
    "    pvalues.append(scipy.stats.ttest_ind(data_fst, data_snd).pvalue)\n",
    "    \n",
    "print((np.array(pvalues) < 0.05).mean())\n",
    "plt.hist(pvalues)\n",
    "plt.show()"
   ]
  },
  {
   "cell_type": "markdown",
   "metadata": {},
   "source": [
    "Усилим различие"
   ]
  },
  {
   "cell_type": "code",
   "execution_count": 193,
   "metadata": {
    "ExecuteTime": {
     "end_time": "2021-07-31T12:32:37.608301Z",
     "start_time": "2021-07-31T12:32:34.976468Z"
    }
   },
   "outputs": [
    {
     "name": "stdout",
     "output_type": "stream",
     "text": [
      "0.505\n"
     ]
    },
    {
     "data": {
      "image/png": "[encoded data removed]",
      "text/plain": [
       "<Figure size 640x480 with 1 Axes>"
      ]
     },
     "metadata": {},
     "output_type": "display_data"
    }
   ],
   "source": [
    "pvalues = []\n",
    "for _ in range(10000):\n",
    "    data_fst = np.random.normal(12, 10, size=100)\n",
    "    data_snd = np.random.normal(10, 1, size=100)\n",
    "    pvalues.append(scipy.stats.ttest_ind(data_fst, data_snd).pvalue)\n",
    "    \n",
    "print((np.array(pvalues) < 0.05).mean())\n",
    "plt.hist(pvalues)\n",
    "plt.show()"
   ]
  },
  {
   "cell_type": "markdown",
   "metadata": {},
   "source": [
    "Увеличим выборку"
   ]
  },
  {
   "cell_type": "code",
   "execution_count": 194,
   "metadata": {
    "ExecuteTime": {
     "end_time": "2021-07-31T12:33:33.831625Z",
     "start_time": "2021-07-31T12:33:30.803313Z"
    }
   },
   "outputs": [
    {
     "name": "stdout",
     "output_type": "stream",
     "text": [
      "0.8843\n"
     ]
    },
    {
     "data": {
      "image/png": "[encoded data removed]",
      "text/plain": [
       "<Figure size 640x480 with 1 Axes>"
      ]
     },
     "metadata": {},
     "output_type": "display_data"
    }
   ],
   "source": [
    "pvalues = []\n",
    "for _ in range(10000):\n",
    "    data_fst = np.random.normal(11, 10, size=1000)\n",
    "    data_snd = np.random.normal(10, 1, size=1000)\n",
    "    pvalues.append(scipy.stats.ttest_ind(data_fst, data_snd).pvalue)\n",
    "    \n",
    "print((np.array(pvalues) < 0.05).mean())\n",
    "plt.hist(pvalues)\n",
    "plt.show()"
   ]
  },
  {
   "cell_type": "code",
   "execution_count": null,
   "metadata": {},
   "outputs": [],
   "source": []
  },
  {
   "cell_type": "markdown",
   "metadata": {},
   "source": [
    "# Перестановочные тесты"
   ]
  },
  {
   "cell_type": "code",
   "execution_count": null,
   "metadata": {
    "ExecuteTime": {
     "end_time": "2021-07-31T12:37:50.081641Z",
     "start_time": "2021-07-31T12:37:50.076115Z"
    }
   },
   "outputs": [],
   "source": [
    "def my_test(data_fst, data_snd, iters=1000, plot=True):\n",
    "    data = np.array(list(data_fst) + list(data_snd))\n",
    "    size = len(data)\n",
    "    values = []\n",
    "    fst_ratio = len(data_fst) * 1. / size\n",
    "    for _ in range(iters):\n",
    "        mask = (np.random.random(size=size) < fst_ratio)\n",
    "        values.append(data[mask].mean() - data[~mask].mean())\n",
    "        \n",
    "    if plot:\n",
    "        plt.hist(values, bins=30)\n",
    "        plt.show()\n",
    "        \n",
    "    return (np.abs(values) > np.abs(data_fst.mean() - data_snd.mean())).mean()"
   ]
  },
  {
   "cell_type": "markdown",
   "metadata": {},
   "source": [
    "### Корректно ли такое применение?"
   ]
  },
  {
   "cell_type": "code",
   "execution_count": null,
   "metadata": {
    "ExecuteTime": {
     "end_time": "2021-07-31T12:37:52.511340Z",
     "start_time": "2021-07-31T12:37:51.479317Z"
    }
   },
   "outputs": [],
   "source": [
    "data_fst = np.random.normal(0, 10, size=100)\n",
    "data_snd = np.random.normal(0, 1, size=100)\n",
    "\n",
    "print(scipy.stats.ttest_ind(data_fst, data_snd).pvalue)\n",
    "print(my_test(data_fst, data_snd, iters=10))\n",
    "print(my_test(data_fst, data_snd, iters=100))\n",
    "print(my_test(data_fst, data_snd, iters=1000))\n",
    "print(my_test(data_fst, data_snd, iters=10000))"
   ]
  },
  {
   "cell_type": "code",
   "execution_count": null,
   "metadata": {
    "ExecuteTime": {
     "end_time": "2021-07-31T12:38:41.231766Z",
     "start_time": "2021-07-31T12:38:40.161908Z"
    }
   },
   "outputs": [],
   "source": [
    "data_fst = np.random.normal(0, 10, size=100)\n",
    "data_snd = np.random.normal(1, 1, size=100)\n",
    "\n",
    "print(scipy.stats.ttest_ind(data_fst, data_snd).pvalue)\n",
    "print(my_test(data_fst, data_snd, iters=10))\n",
    "print(my_test(data_fst, data_snd, iters=100))\n",
    "print(my_test(data_fst, data_snd, iters=1000))\n",
    "print(my_test(data_fst, data_snd, iters=10000))"
   ]
  },
  {
   "cell_type": "markdown",
   "metadata": {},
   "source": [
    "К сожалению нет :("
   ]
  },
  {
   "cell_type": "markdown",
   "metadata": {},
   "source": [
    "Давайте в этом убедимся :("
   ]
  },
  {
   "cell_type": "code",
   "execution_count": null,
   "metadata": {
    "ExecuteTime": {
     "end_time": "2021-07-31T12:39:51.228194Z",
     "start_time": "2021-07-31T12:39:15.182089Z"
    }
   },
   "outputs": [],
   "source": [
    "hits = 0.\n",
    "count = 0.\n",
    "\n",
    "for _ in range(1000):\n",
    "    data_fst = np.random.normal(11, 10, size=1000)\n",
    "    data_snd = np.random.normal(10, 1, size=100)\n",
    "\n",
    "    count += 1\n",
    "    if my_test(data_fst, data_snd, plot=False, iters=1000) < 0.05:\n",
    "        hits += 1\n",
    "\n",
    "print(hits / count)"
   ]
  },
  {
   "cell_type": "code",
   "execution_count": null,
   "metadata": {
    "ExecuteTime": {
     "end_time": "2021-07-31T12:40:27.711025Z",
     "start_time": "2021-07-31T12:39:51.229607Z"
    }
   },
   "outputs": [],
   "source": [
    "hits = 0.\n",
    "count = 0.\n",
    "\n",
    "for _ in range(1000):\n",
    "    data_fst = np.random.normal(10, 10, size=1000)\n",
    "    data_snd = np.random.normal(10, 1, size=100)\n",
    "\n",
    "    count += 1\n",
    "    if my_test(data_fst, data_snd, plot=False, iters=1000) < 0.05:\n",
    "        hits += 1\n",
    "\n",
    "print(hits / count)"
   ]
  },
  {
   "cell_type": "code",
   "execution_count": null,
   "metadata": {},
   "outputs": [],
   "source": []
  },
  {
   "cell_type": "code",
   "execution_count": null,
   "metadata": {},
   "outputs": [],
   "source": []
  },
  {
   "cell_type": "markdown",
   "metadata": {},
   "source": [
    "Как с Мана-Уитни, нулевая гипотеза это что распределения совпадают"
   ]
  },
  {
   "cell_type": "code",
   "execution_count": null,
   "metadata": {
    "ExecuteTime": {
     "end_time": "2021-07-31T12:41:02.107743Z",
     "start_time": "2021-07-31T12:40:27.712685Z"
    }
   },
   "outputs": [],
   "source": [
    "hits = 0.\n",
    "count = 0.\n",
    "\n",
    "for _ in range(1000):\n",
    "    data_fst = np.random.normal(11, 1, size=1000)\n",
    "    data_snd = np.random.normal(10, 1, size=100)\n",
    "\n",
    "    count += 1\n",
    "    if my_test(data_fst, data_snd, plot=False, iters=1000) < 0.05:\n",
    "        hits += 1\n",
    "\n",
    "print(hits / count)"
   ]
  },
  {
   "cell_type": "code",
   "execution_count": null,
   "metadata": {
    "ExecuteTime": {
     "end_time": "2021-07-31T12:41:36.268735Z",
     "start_time": "2021-07-31T12:41:02.109065Z"
    }
   },
   "outputs": [],
   "source": [
    "hits = 0.\n",
    "count = 0.\n",
    "\n",
    "for _ in range(1000):\n",
    "    data_fst = np.random.normal(10, 1, size=1000)\n",
    "    data_snd = np.random.normal(10, 1, size=100)\n",
    "\n",
    "    count += 1\n",
    "    if my_test(data_fst, data_snd, plot=False, iters=1000) < 0.05:\n",
    "        hits += 1\n",
    "\n",
    "print(hits / count)"
   ]
  },
  {
   "cell_type": "markdown",
   "metadata": {},
   "source": [
    "Вот это уже неплохо"
   ]
  },
  {
   "cell_type": "code",
   "execution_count": null,
   "metadata": {},
   "outputs": [],
   "source": []
  },
  {
   "cell_type": "code",
   "execution_count": null,
   "metadata": {},
   "outputs": [],
   "source": []
  },
  {
   "cell_type": "markdown",
   "metadata": {},
   "source": [
    "# Bootstrap"
   ]
  },
  {
   "cell_type": "code",
   "execution_count": null,
   "metadata": {
    "ExecuteTime": {
     "end_time": "2021-07-31T12:45:42.808170Z",
     "start_time": "2021-07-31T12:45:42.802871Z"
    }
   },
   "outputs": [],
   "source": [
    "def my_bootstrap(data_fst, data_snd, iters=1000, plot=True):\n",
    "    values = []\n",
    "    for _ in range(iters):\n",
    "        values.append(\n",
    "            np.random.choice(data_fst, replace=True, size=len(data_fst)).mean()\n",
    "            -\n",
    "            np.random.choice(data_snd, replace=True, size=len(data_snd)).mean()\n",
    "        )\n",
    "        \n",
    "    if plot:\n",
    "        plt.hist(values, bins=30)\n",
    "        plt.show()\n",
    "        \n",
    "    return np.percentile(values, [2.5, 97.5])"
   ]
  },
  {
   "cell_type": "code",
   "execution_count": null,
   "metadata": {
    "ExecuteTime": {
     "end_time": "2021-07-31T12:45:43.797278Z",
     "start_time": "2021-07-31T12:45:43.486585Z"
    }
   },
   "outputs": [],
   "source": [
    "data_fst = np.random.normal(0, 10, size=1000)\n",
    "data_snd = np.random.normal(0, 1, size=100)\n",
    "\n",
    "print(scipy.stats.ttest_ind(data_fst, data_snd).pvalue)\n",
    "print(my_bootstrap(data_fst, data_snd, iters=1000, plot=True))"
   ]
  },
  {
   "cell_type": "code",
   "execution_count": null,
   "metadata": {
    "ExecuteTime": {
     "end_time": "2021-07-31T12:46:49.313945Z",
     "start_time": "2021-07-31T12:46:49.069743Z"
    }
   },
   "outputs": [],
   "source": [
    "data_fst = np.random.normal(1, 10, size=1000)\n",
    "data_snd = np.random.normal(0, 1, size=100)\n",
    "\n",
    "print(scipy.stats.ttest_ind(data_fst, data_snd).pvalue)\n",
    "print(my_bootstrap(data_fst, data_snd, iters=1000, plot=True))"
   ]
  },
  {
   "cell_type": "code",
   "execution_count": null,
   "metadata": {},
   "outputs": [],
   "source": []
  },
  {
   "cell_type": "code",
   "execution_count": null,
   "metadata": {},
   "outputs": [],
   "source": []
  },
  {
   "cell_type": "code",
   "execution_count": null,
   "metadata": {
    "ExecuteTime": {
     "end_time": "2021-07-31T12:48:26.929855Z",
     "start_time": "2021-07-31T12:47:25.177486Z"
    }
   },
   "outputs": [],
   "source": [
    "hits = 0.\n",
    "count = 0.\n",
    "\n",
    "for _ in range(1000):\n",
    "    data_fst = np.random.normal(11, 10, size=1000)\n",
    "    data_snd = np.random.normal(10, 1, size=100)\n",
    "\n",
    "    lower, upper = my_bootstrap(data_fst, data_snd, plot=False, iters=1000)\n",
    "    count += 1\n",
    "    if not (lower < 0 < upper):\n",
    "        hits += 1\n",
    "\n",
    "print(hits / count)"
   ]
  },
  {
   "cell_type": "code",
   "execution_count": null,
   "metadata": {
    "ExecuteTime": {
     "end_time": "2021-07-31T12:49:30.814700Z",
     "start_time": "2021-07-31T12:48:26.931342Z"
    }
   },
   "outputs": [],
   "source": [
    "hits = 0.\n",
    "count = 0.\n",
    "\n",
    "for _ in range(1000):\n",
    "    data_fst = np.random.normal(10, 10, size=1000)\n",
    "    data_snd = np.random.normal(10, 1, size=100)\n",
    "\n",
    "    lower, upper = my_bootstrap(data_fst, data_snd, plot=False, iters=1000)\n",
    "    count += 1\n",
    "    if not (lower < 0 < upper):\n",
    "        hits += 1\n",
    "\n",
    "print(hits / count)"
   ]
  },
  {
   "cell_type": "code",
   "execution_count": null,
   "metadata": {},
   "outputs": [],
   "source": []
  },
  {
   "cell_type": "code",
   "execution_count": null,
   "metadata": {},
   "outputs": [],
   "source": []
  },
  {
   "cell_type": "markdown",
   "metadata": {},
   "source": [
    "# Бакетное сэмплирование"
   ]
  },
  {
   "cell_type": "code",
   "execution_count": null,
   "metadata": {
    "ExecuteTime": {
     "end_time": "2021-07-31T12:50:02.130097Z",
     "start_time": "2021-07-31T12:49:53.652551Z"
    }
   },
   "outputs": [],
   "source": [
    "hits = 0.\n",
    "count = 0.\n",
    "\n",
    "for _ in range(10000):\n",
    "    data_fst = np.random.normal(10, 5, size=10000)\n",
    "    data_snd = np.random.normal(10, 1, size=10000)\n",
    "    \n",
    "    count += 1\n",
    "    if scipy.stats.ttest_ind(data_fst, data_snd, equal_var=False).pvalue < 0.05:\n",
    "        hits += 1\n",
    "\n",
    "print(hits / count)"
   ]
  },
  {
   "cell_type": "code",
   "execution_count": null,
   "metadata": {
    "ExecuteTime": {
     "end_time": "2021-07-31T12:50:10.082945Z",
     "start_time": "2021-07-31T12:50:02.131845Z"
    }
   },
   "outputs": [],
   "source": [
    "hits = 0.\n",
    "count = 0.\n",
    "\n",
    "for _ in range(10000):\n",
    "    data_fst = np.random.normal(10.1, 5, size=10000)\n",
    "    data_snd = np.random.normal(10, 1, size=10000)\n",
    "    \n",
    "    count += 1\n",
    "    if scipy.stats.ttest_ind(data_fst, data_snd, equal_var=False).pvalue < 0.05:\n",
    "        hits += 1\n",
    "\n",
    "print(hits / count)"
   ]
  },
  {
   "cell_type": "code",
   "execution_count": null,
   "metadata": {},
   "outputs": [],
   "source": []
  },
  {
   "cell_type": "markdown",
   "metadata": {},
   "source": [
    "делаем бакеты"
   ]
  },
  {
   "cell_type": "code",
   "execution_count": null,
   "metadata": {
    "ExecuteTime": {
     "end_time": "2021-07-31T12:51:14.310084Z",
     "start_time": "2021-07-31T12:51:05.357594Z"
    }
   },
   "outputs": [],
   "source": [
    "hits = 0.\n",
    "count = 0.\n",
    "\n",
    "for _ in range(10000):\n",
    "    data_fst = np.random.normal(10, 5, size=10000).reshape((100, 100)).mean(axis=1)\n",
    "    data_snd = np.random.normal(10, 1, size=10000).reshape((100, 100)).mean(axis=1)\n",
    "    \n",
    "    count += 1\n",
    "    if scipy.stats.ttest_ind(data_fst, data_snd, equal_var=False).pvalue < 0.05:\n",
    "        hits += 1\n",
    "\n",
    "print(hits / count)"
   ]
  },
  {
   "cell_type": "code",
   "execution_count": null,
   "metadata": {
    "ExecuteTime": {
     "end_time": "2021-07-31T12:51:22.532787Z",
     "start_time": "2021-07-31T12:51:14.312662Z"
    }
   },
   "outputs": [],
   "source": [
    "hits = 0.\n",
    "count = 0.\n",
    "\n",
    "for _ in range(10000):\n",
    "    data_fst = np.random.normal(10.1, 5, size=10000).reshape((100, 100)).mean(axis=1)\n",
    "    data_snd = np.random.normal(10, 1, size=10000).reshape((100, 100)).mean(axis=1)\n",
    "    \n",
    "    count += 1\n",
    "    if scipy.stats.ttest_ind(data_fst, data_snd, equal_var=False).pvalue < 0.05:\n",
    "        hits += 1\n",
    "\n",
    "print(hits / count)"
   ]
  },
  {
   "cell_type": "code",
   "execution_count": null,
   "metadata": {},
   "outputs": [],
   "source": []
  },
  {
   "cell_type": "markdown",
   "metadata": {},
   "source": [
    "Можно и суммы"
   ]
  },
  {
   "cell_type": "code",
   "execution_count": null,
   "metadata": {
    "ExecuteTime": {
     "end_time": "2021-07-31T12:52:05.765217Z",
     "start_time": "2021-07-31T12:51:57.553111Z"
    }
   },
   "outputs": [],
   "source": [
    "hits = 0.\n",
    "count = 0.\n",
    "\n",
    "for _ in range(10000):\n",
    "    data_fst = np.random.normal(10, 5, size=10000).reshape((100, 100)).sum(axis=1)\n",
    "    data_snd = np.random.normal(10, 1, size=10000).reshape((100, 100)).sum(axis=1)\n",
    "    \n",
    "    count += 1\n",
    "    if scipy.stats.ttest_ind(data_fst, data_snd, equal_var=False).pvalue < 0.05:\n",
    "        hits += 1\n",
    "\n",
    "print(hits / count)"
   ]
  },
  {
   "cell_type": "code",
   "execution_count": null,
   "metadata": {
    "ExecuteTime": {
     "end_time": "2021-07-31T12:52:14.029763Z",
     "start_time": "2021-07-31T12:52:05.766706Z"
    }
   },
   "outputs": [],
   "source": [
    "hits = 0.\n",
    "count = 0.\n",
    "\n",
    "for _ in range(10000):\n",
    "    data_fst = np.random.normal(10.1, 5, size=10000).reshape((100, 100)).sum(axis=1)\n",
    "    data_snd = np.random.normal(10, 1, size=10000).reshape((100, 100)).sum(axis=1)\n",
    "    \n",
    "    count += 1\n",
    "    if scipy.stats.ttest_ind(data_fst, data_snd, equal_var=False).pvalue < 0.05:\n",
    "        hits += 1\n",
    "\n",
    "print(hits / count)"
   ]
  },
  {
   "cell_type": "code",
   "execution_count": null,
   "metadata": {},
   "outputs": [],
   "source": []
  },
  {
   "cell_type": "markdown",
   "metadata": {},
   "source": [
    "А теперь усложним выборку"
   ]
  },
  {
   "cell_type": "code",
   "execution_count": null,
   "metadata": {
    "ExecuteTime": {
     "end_time": "2021-07-31T12:55:28.351335Z",
     "start_time": "2021-07-31T12:55:19.610449Z"
    }
   },
   "outputs": [],
   "source": [
    "hits = 0.\n",
    "count = 0.\n",
    "\n",
    "for _ in range(10000):\n",
    "    params_fst = np.random.uniform(-5, 5, size=1000)\n",
    "    params_snd = np.random.uniform(-5, 5, size=1000)\n",
    "    \n",
    "    data_fst = np.random.normal(10, 5, size=10000).reshape((1000, 10)) + params_fst[:, np.newaxis]\n",
    "    data_fst = data_fst.reshape((10000,))\n",
    "    data_snd = np.random.normal(10, 1, size=10000).reshape((1000, 10)) + params_snd[:, np.newaxis]\n",
    "    data_snd = data_snd.reshape((10000,))\n",
    "    \n",
    "    count += 1\n",
    "    if scipy.stats.ttest_ind(data_fst, data_snd, equal_var=False).pvalue < 0.05:\n",
    "        hits += 1\n",
    "\n",
    "print(hits / count)"
   ]
  },
  {
   "cell_type": "code",
   "execution_count": null,
   "metadata": {
    "ExecuteTime": {
     "end_time": "2021-07-31T12:55:37.018982Z",
     "start_time": "2021-07-31T12:55:28.352952Z"
    }
   },
   "outputs": [],
   "source": [
    "hits = 0.\n",
    "count = 0.\n",
    "\n",
    "for _ in range(10000):\n",
    "    params_fst = np.random.uniform(-1, 1, size=1000)\n",
    "    params_snd = np.random.uniform(-1, 1, size=1000)\n",
    "    \n",
    "    data_fst = np.random.normal(10.1, 5, size=10000).reshape((1000, 10)) + params_fst[:, np.newaxis]\n",
    "    data_fst = data_fst.reshape((10000,))\n",
    "    data_snd = np.random.normal(10, 1, size=10000).reshape((1000, 10)) + params_snd[:, np.newaxis]\n",
    "    data_snd = data_snd.reshape((10000,))\n",
    "    \n",
    "    count += 1\n",
    "    if scipy.stats.ttest_ind(data_fst, data_snd, equal_var=False).pvalue < 0.05:\n",
    "        hits += 1\n",
    "\n",
    "print(hits / count)"
   ]
  },
  {
   "cell_type": "markdown",
   "metadata": {},
   "source": [
    "беда("
   ]
  },
  {
   "cell_type": "code",
   "execution_count": null,
   "metadata": {
    "ExecuteTime": {
     "end_time": "2021-07-31T12:57:00.377471Z",
     "start_time": "2021-07-31T12:56:51.490828Z"
    }
   },
   "outputs": [],
   "source": [
    "hits = 0.\n",
    "count = 0.\n",
    "\n",
    "for _ in range(10000):\n",
    "    params_fst = np.random.uniform(-5, 5, size=1000)\n",
    "    params_snd = np.random.uniform(-5, 5, size=1000)\n",
    "    \n",
    "    data_fst = np.random.normal(10, 5, size=10000).reshape((1000, 10)) + params_fst[:, np.newaxis]\n",
    "    data_fst = data_fst.reshape((10000,)).reshape((100, 100)).mean(axis=1)\n",
    "    data_snd = np.random.normal(10, 1, size=10000).reshape((1000, 10)) + params_snd[:, np.newaxis]\n",
    "    data_snd = data_snd.reshape((10000,)).reshape((100, 100)).mean(axis=1)\n",
    "    \n",
    "    count += 1\n",
    "    if scipy.stats.ttest_ind(data_fst, data_snd, equal_var=False).pvalue < 0.05:\n",
    "        hits += 1\n",
    "\n",
    "print(hits / count)"
   ]
  },
  {
   "cell_type": "code",
   "execution_count": null,
   "metadata": {
    "ExecuteTime": {
     "end_time": "2021-07-31T12:57:08.910178Z",
     "start_time": "2021-07-31T12:57:00.379485Z"
    }
   },
   "outputs": [],
   "source": [
    "hits = 0.\n",
    "count = 0.\n",
    "\n",
    "for _ in range(10000):\n",
    "    params_fst = np.random.uniform(-5, 5, size=1000)\n",
    "    params_snd = np.random.uniform(-5, 5, size=1000)\n",
    "    \n",
    "    data_fst = np.random.normal(10.1, 5, size=10000).reshape((1000, 10)) + params_fst[:, np.newaxis]\n",
    "    data_fst = data_fst.reshape((10000,)).reshape((100, 100)).mean(axis=1)\n",
    "    data_snd = np.random.normal(10, 1, size=10000).reshape((1000, 10)) + params_snd[:, np.newaxis]\n",
    "    data_snd = data_snd.reshape((10000,)).reshape((100, 100)).mean(axis=1)\n",
    "    \n",
    "    count += 1\n",
    "    if scipy.stats.ttest_ind(data_fst, data_snd, equal_var=False).pvalue < 0.05:\n",
    "        hits += 1\n",
    "\n",
    "print(hits / count)"
   ]
  },
  {
   "cell_type": "code",
   "execution_count": null,
   "metadata": {
    "ExecuteTime": {
     "end_time": "2021-07-31T12:58:05.436554Z",
     "start_time": "2021-07-31T12:57:55.774931Z"
    }
   },
   "outputs": [],
   "source": [
    "hits = 0.\n",
    "count = 0.\n",
    "\n",
    "for _ in range(10000):\n",
    "    params_fst = np.random.uniform(-1, 1, size=1000)\n",
    "    params_snd = np.random.uniform(-1, 1, size=1000)\n",
    "    \n",
    "    data_fst = np.random.normal(10.1, 5, size=10000).reshape((1000, 10)) + params_fst[:, np.newaxis]\n",
    "    data_fst = data_fst.reshape((10000,)).reshape((100, 100)).mean(axis=1)\n",
    "    data_snd = np.random.normal(10, 1, size=10000).reshape((1000, 10)) + params_snd[:, np.newaxis]\n",
    "    data_snd = data_snd.reshape((10000,)).reshape((100, 100)).mean(axis=1)\n",
    "    \n",
    "    count += 1\n",
    "    if scipy.stats.ttest_ind(data_fst, data_snd, equal_var=False).pvalue < 0.05:\n",
    "        hits += 1\n",
    "\n",
    "print(hits / count)"
   ]
  },
  {
   "cell_type": "code",
   "execution_count": null,
   "metadata": {
    "ExecuteTime": {
     "end_time": "2021-07-31T12:58:14.670659Z",
     "start_time": "2021-07-31T12:58:05.438184Z"
    }
   },
   "outputs": [],
   "source": [
    "hits = 0.\n",
    "count = 0.\n",
    "\n",
    "for _ in range(10000):\n",
    "    params_fst = np.random.uniform(-10, 10, size=1000)\n",
    "    params_snd = np.random.uniform(-10, 10, size=1000)\n",
    "    \n",
    "    data_fst = np.random.normal(11, 5, size=10000).reshape((1000, 10)) + params_fst[:, np.newaxis]\n",
    "    data_fst = data_fst.reshape((10000,)).reshape((100, 100)).mean(axis=1)\n",
    "    data_snd = np.random.normal(10, 1, size=10000).reshape((1000, 10)) + params_snd[:, np.newaxis]\n",
    "    data_snd = data_snd.reshape((10000,)).reshape((100, 100)).mean(axis=1)\n",
    "    \n",
    "    count += 1\n",
    "    if scipy.stats.ttest_ind(data_fst, data_snd, equal_var=False).pvalue < 0.05:\n",
    "        hits += 1\n",
    "\n",
    "print(hits / count)"
   ]
  },
  {
   "cell_type": "code",
   "execution_count": null,
   "metadata": {},
   "outputs": [],
   "source": []
  }
 ],
 "metadata": {
  "kernelspec": {
   "display_name": "ml_env",
   "language": "python",
   "name": "python3"
  },
  "language_info": {
   "codemirror_mode": {
    "name": "ipython",
    "version": 3
   },
   "file_extension": ".py",
   "mimetype": "text/x-python",
   "name": "python",
   "nbconvert_exporter": "python",
   "pygments_lexer": "ipython3",
   "version": "3.8.12"
  }
 },
 "nbformat": 4,
 "nbformat_minor": 2
}
