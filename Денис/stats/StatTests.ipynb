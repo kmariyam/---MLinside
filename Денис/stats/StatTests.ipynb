{
 "cells": [
  {
   "cell_type": "markdown",
   "metadata": {},
   "source": [
    "# Статистический анализ с помощью Python &#x1F40D;\n",
    "\n",
    "Цель этого блокнота: дать понимание различных статистических методов и концепций с помощью Python. \n",
    "\n",
    "![stats](photo_2024-07-09_18-58-32.jpg)\n",
    "\n",
    "**Рассматриваемые темы включают**:\n",
    "\n",
    "1. [Центральная предельная теорема (ЦПТ)](https://ru.wikipedia.org/wiki/%D0%A6%D0%B5%D0%BD%D1%82%D1%80%D0%B0%D0%BB%D1%8C%D0%BD%D0%B0%D1%8F_%D0%BF%D1%80%D0%B5%D0%B4%D0%B5%D0%BB%D1%8C%D0%BD%D0%B0%D1%8F_%D1%82%D0%B5%D0%BE%D1%80%D0%B5%D0%BC%D0%B0).\n",
    "2. [Статистические тесты с помощью библиотеки SciPy](https://docs.scipy.org/doc/scipy/).\n",
    "3. [Понимание p-value, корректности и мощности](https://ru.wikipedia.org/wiki/P-%D0%B7%D0%BD%D0%B0%D1%87%D0%B5%D0%BD%D0%B8%D0%B5).\n",
    "4. [Перестановочные тесты](https://ru.wikipedia.org/wiki/%D0%9F%D0%B5%D1%80%D0%BC%D1%83%D1%82%D0%B0%D1%86%D0%B8%D0%BE%D0%BD%D0%BD%D1%8B%D0%B9_%D1%82%D0%B5%D1%81%D1%82).\n",
    "5. [Методы бутстрапа](https://ru.wikipedia.org/wiki/%D0%91%D1%83%D1%82%D1%81%D1%82%D1%80%D1%8D%D0%BF_(%D1%81%D1%82%D0%B0%D1%82%D0%B8%D1%81%D1%82%D0%B8%D0%BA%D0%B0)).\n",
    "6. [Бакетное сэмплирование](https://fastercapital.com/content/Optimizing-Data-Sampling-with-Bucket-Sampling.html#Examples-of-using-bucket-sampling-in-different-domains-and-scenarios:~:text=or%20seasonal%20variations.-,6.%20Examples%20of%20using%20bucket%20sampling%20in%20different%20domains%20and%20scenarios,-Bucket%20sampling%20is).\n",
    "\n",
    "Каждый раздел включает в себя объяснения, примеры кода и визуализации для иллюстрации концепций.\n",
    "\n",
    "Для дальнейшего чтения обратите внимание на следующие ресурсы:\n",
    "- [Python Data Science Handbook](https://jakevdp.github.io/PythonDataScienceHandbook/)"
   ]
  },
  {
   "cell_type": "markdown",
   "metadata": {},
   "source": [
    "## Импорт библиотеки с примерами &#x1F4DA;\n",
    "\n",
    "Так как в рамках данного блокнота мы будем запускать код, необходимо импортировать библиотеки для работы со статистичечкими методами в Python.\n",
    "\n",
    "Вдобавок давайте вместе взглянем на то, как ведут себя те или иные статистические функции."
   ]
  },
  {
   "cell_type": "code",
   "execution_count": 1,
   "metadata": {
    "ExecuteTime": {
     "end_time": "2021-07-31T12:08:49.454774Z",
     "start_time": "2021-07-31T12:08:48.558688Z"
    }
   },
   "outputs": [],
   "source": [
    "# Импортируем необходимые библиотеки: numpy для работы с массивами, scipy для статистических функций,\n",
    "# matplotlib для построения графиков и модуль scipy.stats для статистических тестов.\n",
    "\n",
    "import numpy as np\n",
    "import scipy\n",
    "import matplotlib.pyplot as plt\n",
    "import scipy.stats\n",
    "\n",
    "# Настраиваем Jupyter Notebook для отображения графиков прямо в блокноте.\n",
    "%matplotlib inline"
   ]
  },
  {
   "cell_type": "code",
   "execution_count": 6,
   "metadata": {
    "ExecuteTime": {
     "end_time": "2021-07-31T12:10:09.278319Z",
     "start_time": "2021-07-31T12:10:09.274945Z"
    }
   },
   "outputs": [],
   "source": [
    "# Сгенерируем два набора данных с одинаковыми средними значениями, но разными стандартными отклонениями.\n",
    "# data_fst - данные с нормальным распределением, среднее значение 10, стандартное отклонение 10, размер выборки 100.\n",
    "# data_snd - данные с нормальным распределением, среднее значение 10, стандартное отклонение 1, размер выборки 100.\n",
    "\n",
    "data_fst = np.random.normal(10, 10, size=100)\n",
    "data_snd = np.random.normal(10, 1, size=100)"
   ]
  },
  {
   "cell_type": "code",
   "execution_count": 7,
   "metadata": {
    "ExecuteTime": {
     "end_time": "2021-07-31T12:10:09.842815Z",
     "start_time": "2021-07-31T12:10:09.838649Z"
    }
   },
   "outputs": [
    {
     "name": "stdout",
     "output_type": "stream",
     "text": [
      "10.601856162471856\n",
      "9.879324246262545\n"
     ]
    }
   ],
   "source": [
    "# Если мы посмотрим на средние значения выборок, то они, конечно же, будут различны.\n",
    "# Выводим средние значения для каждого набора данных, чтобы увидеть различия.\n",
    "\n",
    "print(data_fst.mean())\n",
    "print(data_snd.mean())"
   ]
  },
  {
   "cell_type": "code",
   "execution_count": 12,
   "metadata": {
    "ExecuteTime": {
     "end_time": "2021-07-31T12:10:22.486405Z",
     "start_time": "2021-07-31T12:10:22.481401Z"
    }
   },
   "outputs": [],
   "source": [
    "# Но даже если средние значения немного различаются, они могут не сильно отличаться.\n",
    "# Сгенерируем два набора данных с немного разными средними значениями.\n",
    "# data_fst - данные с нормальным распределением, среднее значение 10.5, стандартное отклонение 10, размер выборки 100.\n",
    "# data_snd - данные с нормальным распределением, среднее значение 10, стандартное отклонение 1, размер выборки 100.\n",
    "\n",
    "data_fst = np.random.normal(10.5, 10, size=100)\n",
    "data_snd = np.random.normal(10, 1, size=100)"
   ]
  },
  {
   "cell_type": "code",
   "execution_count": 15,
   "metadata": {},
   "outputs": [
    {
     "name": "stdout",
     "output_type": "stream",
     "text": [
      "9.4617089844891\n",
      "10.050061991082707\n"
     ]
    }
   ],
   "source": [
    "# Выводим средние значения для каждого набора данных, чтобы увидеть различия.\n",
    "\n",
    "print(data_fst.mean())\n",
    "print(data_snd.mean())"
   ]
  },
  {
   "cell_type": "markdown",
   "metadata": {},
   "source": [
    "### Что мы уже имеем?\n",
    "\n",
    "Из приведённых примеров можно сделать несколько наблюдений:\n",
    "\n",
    "1. **Средние значения выборок могут существенно отличаться в зависимости от стандартного отклонения данных.** В первом примере мы видели, что даже при одинаковых средних значениях выборки (10), большое стандартное отклонение (10) в первом наборе данных и малое стандартное отклонение (1) во втором наборе данных приводят к различным средним значениям выборок.\n",
    "   \n",
    "2. **Небольшие изменения в средних значениях исходных данных не всегда существенно влияют на средние значения выборок.** Во втором примере мы изменили среднее значение первого набора данных с 10 до 10.5, и, несмотря на это, средние значения выборок остались достаточно близкими друг к другу.\n",
    "\n",
    "Эти наблюдения подчеркивают важность учета стандартного отклонения и других параметров распределения данных при проведении статистических анализов.\n",
    "\n",
    "Мы уже видели, как стандартное отклонение и изменения в средних значениях выборок могут влиять на результаты. Эти наблюдения подводят нас к важному статистическому принципу - Центральной Предельной Теореме (**ЦПТ**).\n",
    "\n",
    "**ЦПТ** является фундаментальной концепцией в статистике, которая помогает объяснить, почему средние значения выборок распределены определённым образом. Понимание **ЦПТ** позволяет нам использовать статистические методы, такие как доверительные интервалы и гипотезы, для анализа данных.\n"
   ]
  },
  {
   "cell_type": "markdown",
   "metadata": {},
   "source": [
    "# Использование ЦПТ &#x270F;"
   ]
  },
  {
   "cell_type": "markdown",
   "metadata": {},
   "source": [
    "### Можно воспользоваться ЦПТ и получить доверительный интервал для среднего"
   ]
  },
  {
   "cell_type": "markdown",
   "metadata": {},
   "source": [
    "#### Определение ЦПТ:\n",
    "\n",
    "**ВНИМАНИЕ! НЕМНОГО ФОРМУЛ!**\n",
    "\n",
    "![math](Calculating-meme-meme-1j9mml.jpg)\n",
    "\n",
    "Пусть $\\xi_1, \\xi_2, \\dots$ - независимые одинаково распределённые случайные величины с конечной дисперсией $D \\xi_1$ и мат. ожиданием $E \\xi_1$, тогда\n",
    "\n",
    "$\\sqrt{\\frac{n}{D \\xi_1}} \\left(\\frac{\\sum\\limits_{i=1}^{n} \\xi_i}{n} - E \\xi_1\\right) \\to_{n \\to \\infty} \\mathcal{N}(0, 1)$ \n",
    "\n",
    "Отсюда можно сделать вывод, что при больших $n$ величина $\\frac{\\sum\\limits_{i=1}^{n} \\xi_i}{n}$ будет распределена примерно как $\\mathcal{N}(E \\xi_1, \\frac{D \\xi_1}{n})$\n",
    "\n",
    "Если бы мы знали $D \\xi_1$, то отсюда можно получить интервал на $E \\xi_1$:\n",
    "$$\n",
    "P\\left(E \\xi_1 \\in \\left[\\frac{\\sum\\limits_{i=1}^{n} \\xi_i}{n} - 1.96 \\sqrt{\\frac{D \\xi_1}{n}}, \\frac{\\sum\\limits_{i=1}^{n} \\xi_i}{n} + 1.96 \\sqrt{\\frac{D \\xi_1}{n}}\\right]\\right) \\approx 0.95\n",
    "$$\n",
    "\n",
    "$D \\xi_1$ можно оценить по выборке"
   ]
  },
  {
   "cell_type": "markdown",
   "metadata": {},
   "source": [
    "Давайте объявим функцию `get_95_interval`, так как в будущем мы будем ещё не один раз её использовать."
   ]
  },
  {
   "cell_type": "code",
   "execution_count": 19,
   "metadata": {
    "ExecuteTime": {
     "end_time": "2021-07-31T12:12:25.702931Z",
     "start_time": "2021-07-31T12:12:25.698123Z"
    }
   },
   "outputs": [],
   "source": [
    "def get_95_interval(data, sigma=None):\n",
    "    mean = data.mean()\n",
    "    if sigma is None:\n",
    "        sigma = data.std()\n",
    "    err = sigma * 1.96 / np.sqrt(len(data))\n",
    "    return mean - err, mean + err"
   ]
  },
  {
   "cell_type": "markdown",
   "metadata": {},
   "source": [
    "Следующим шагом проверим, что нужное нам значение **лежит в интервале с требуемой вероятностью**."
   ]
  },
  {
   "cell_type": "code",
   "execution_count": 47,
   "metadata": {
    "ExecuteTime": {
     "end_time": "2021-07-31T12:13:37.669967Z",
     "start_time": "2021-07-31T12:13:37.161776Z"
    }
   },
   "outputs": [
    {
     "name": "stdout",
     "output_type": "stream",
     "text": [
      "Доля случаев, когда истинное среднее значение попало в 95% доверительный интервал: 0.94\n"
     ]
    }
   ],
   "source": [
    "# Инициализируем переменные.\n",
    "hits = 0.\n",
    "count = 0.\n",
    "true_mean = 10.\n",
    "\n",
    "# Запускаем цикл для генерации 10000 выборок.\n",
    "for _ in range(10000):\n",
    "    # Генерируем выборку данных с нормальным распределением, среднее значение 10, стандартное отклонение 10, размер выборки 100.\n",
    "    data = np.random.normal(true_mean, 10, size=100)\n",
    "    \n",
    "    # Вычисляем 95% доверительный интервал для средней величины выборки.\n",
    "    lower_bound, upper_bound = get_95_interval(data)\n",
    "    \n",
    "    # Увеличиваем счетчик общего количества выборок.\n",
    "    count += 1\n",
    "    \n",
    "    # Проверяем, попадает ли истинное среднее значение в доверительный интервал.\n",
    "    if lower_bound <= true_mean <= upper_bound:\n",
    "        # Если попадает, увеличиваем счетчик попаданий.\n",
    "        hits += 1\n",
    "\n",
    "# Выводим долю попаданий истинного среднего значения в доверительный интервал.\n",
    "# Текст поясняет, что результат представляет собой долю случаев, когда истинное среднее значение попало в 95% доверительный интервал.\n",
    "print(f\"Доля случаев, когда истинное среднее значение попало в 95% доверительный интервал: {hits / count:.2f}\")"
   ]
  },
  {
   "cell_type": "markdown",
   "metadata": {},
   "source": [
    "Однако если **данных мало**, то оценка **неправильна** :("
   ]
  },
  {
   "cell_type": "code",
   "execution_count": 57,
   "metadata": {
    "ExecuteTime": {
     "end_time": "2021-07-31T12:13:55.188680Z",
     "start_time": "2021-07-31T12:13:54.744696Z"
    }
   },
   "outputs": [
    {
     "name": "stdout",
     "output_type": "stream",
     "text": [
      "Доля случаев, когда истинное среднее значение попало в 95% доверительный интервал: 0.90\n"
     ]
    }
   ],
   "source": [
    "# Инициализируем переменные.\n",
    "hits = 0.\n",
    "count = 0.\n",
    "true_mean = 10.\n",
    "\n",
    "# Запускаем цикл для генерации 10000 выборок.\n",
    "for _ in range(10000):\n",
    "    # Генерируем выборку данных с нормальным распределением, среднее значение 10, стандартное отклонение 10, размер выборки 10.\n",
    "    data = np.random.normal(true_mean, 10, size=10)\n",
    "    \n",
    "    # Вычисляем 95% доверительный интервал для средней величины выборки.\n",
    "    lower_bound, upper_bound = get_95_interval(data)\n",
    "    \n",
    "    # Увеличиваем счетчик общего количества выборок.\n",
    "    count += 1\n",
    "    \n",
    "    # Проверяем, попадает ли истинное среднее значение в доверительный интервал.\n",
    "    if lower_bound <= true_mean <= upper_bound:\n",
    "        # Если попадает, увеличиваем счетчик попаданий.\n",
    "        hits += 1\n",
    "\n",
    "# Выводим долю попаданий истинного среднего значения в доверительный интервал.\n",
    "# Текст поясняет, что результат представляет собой долю случаев, когда истинное среднее значение попало в 95% доверительный интервал.\n",
    "print(f\"Доля случаев, когда истинное среднее значение попало в 95% доверительный интервал: {hits / count:.2f}\")\n"
   ]
  },
  {
   "cell_type": "markdown",
   "metadata": {},
   "source": [
    "Подставим **реальное значение** дисперсии и **всё снова заработает**!"
   ]
  },
  {
   "cell_type": "code",
   "execution_count": 58,
   "metadata": {
    "ExecuteTime": {
     "end_time": "2021-07-31T12:16:18.315396Z",
     "start_time": "2021-07-31T12:16:18.110254Z"
    }
   },
   "outputs": [
    {
     "name": "stdout",
     "output_type": "stream",
     "text": [
      "Доля случаев, когда истинное среднее значение попало в 95% доверительный интервал: 0.95\n"
     ]
    }
   ],
   "source": [
    "# Инициализируем переменные.\n",
    "hits = 0.\n",
    "count = 0.\n",
    "true_mean = 10.\n",
    "\n",
    "# Запускаем цикл для генерации 10000 выборок.\n",
    "for _ in range(10000):\n",
    "    # Генерируем выборку данных с нормальным распределением, среднее значение 10, стандартное отклонение 10, размер выборки 10.\n",
    "    data = np.random.normal(true_mean, 10, size=10)\n",
    "    \n",
    "    # Вычисляем 95% доверительный интервал для средней величины выборки, используя заданное стандартное отклонение sigma=10.\n",
    "    lower_bound, upper_bound = get_95_interval(data, sigma=10)\n",
    "    \n",
    "    # Увеличиваем счетчик общего количества выборок.\n",
    "    count += 1\n",
    "    \n",
    "    # Проверяем, попадает ли истинное среднее значение в доверительный интервал.\n",
    "    if lower_bound <= true_mean <= upper_bound:\n",
    "        # Если попадает, увеличиваем счетчик попаданий.\n",
    "        hits += 1\n",
    "\n",
    "# Выводим долю попаданий истинного среднего значения в доверительный интервал.\n",
    "# Текст поясняет, что результат представляет собой долю случаев, когда истинное среднее значение попало в 95% доверительный интервал.\n",
    "print(f\"Доля случаев, когда истинное среднее значение попало в 95% доверительный интервал: {hits / count:.2f}\")"
   ]
  },
  {
   "cell_type": "markdown",
   "metadata": {},
   "source": [
    "Итак, у нас две выборки с **гигантской** разницей в среднем!"
   ]
  },
  {
   "cell_type": "code",
   "execution_count": 51,
   "metadata": {
    "ExecuteTime": {
     "end_time": "2021-07-31T12:17:15.027943Z",
     "start_time": "2021-07-31T12:17:15.022869Z"
    }
   },
   "outputs": [
    {
     "name": "stdout",
     "output_type": "stream",
     "text": [
      "95% доверительный интервал для data_fst: (9.167894537945335, 13.079033982208047)\n",
      "95% доверительный интервал для data_snd: (99.7562321638803, 100.14196528447474)\n"
     ]
    }
   ],
   "source": [
    "# Генерируем два набора данных с различными средними значениями и стандартными отклонениями.\n",
    "\n",
    "data_fst = np.random.normal(10.5, 10, size=100)\n",
    "data_snd = np.random.normal(100, 1, size=100)\n",
    "\n",
    "# Вычисляем и выводим 95% доверительный интервал для каждой выборки.\n",
    "\n",
    "print(f\"95% доверительный интервал для data_fst: {get_95_interval(data_fst)}\")\n",
    "print(f\"95% доверительный интервал для data_snd: {get_95_interval(data_snd)}\")"
   ]
  },
  {
   "cell_type": "markdown",
   "metadata": {},
   "source": [
    "Конечно же интервалы **не пересекаются**!"
   ]
  },
  {
   "cell_type": "markdown",
   "metadata": {},
   "source": [
    "Однако если разница **небольшая**, то интервалы **могут пересечься**."
   ]
  },
  {
   "cell_type": "code",
   "execution_count": 59,
   "metadata": {
    "ExecuteTime": {
     "end_time": "2021-07-31T12:17:54.405268Z",
     "start_time": "2021-07-31T12:17:54.400700Z"
    }
   },
   "outputs": [
    {
     "name": "stdout",
     "output_type": "stream",
     "text": [
      "95% доверительный интервал для data_fst: (10.50231419086485, 12.292241978941503)\n",
      "95% доверительный интервал для data_snd: (9.86615829035751, 10.260190263966722)\n"
     ]
    }
   ],
   "source": [
    "# Генерируем два набора данных с различными средними значениями и стандартными отклонениями.\n",
    "\n",
    "data_fst = np.random.normal(11, 10, size=500)\n",
    "data_snd = np.random.normal(10, 1, size=100)\n",
    "\n",
    "print(f\"95% доверительный интервал для data_fst: {get_95_interval(data_fst)}\")\n",
    "print(f\"95% доверительный интервал для data_snd: {get_95_interval(data_snd)}\")"
   ]
  },
  {
   "cell_type": "markdown",
   "metadata": {},
   "source": [
    "Теперь давайте посмотрим, как часто такой критерий (доверительные интервалы не пересекаются) будет находить различие в случае, если оно **действительно существует**. В некотором смысле это показатель мощности критерия."
   ]
  },
  {
   "cell_type": "code",
   "execution_count": 60,
   "metadata": {
    "ExecuteTime": {
     "end_time": "2021-07-31T12:19:16.936184Z",
     "start_time": "2021-07-31T12:19:15.772404Z"
    }
   },
   "outputs": [
    {
     "name": "stdout",
     "output_type": "stream",
     "text": [
      "Доля случаев, когда доверительные интервалы не пересекались (критерий нашел различие): 0.71\n"
     ]
    }
   ],
   "source": [
    "# Инициализируем переменные.\n",
    "hits = 0.\n",
    "count = 0.\n",
    "\n",
    "# Запускаем цикл для генерации 10000 пар выборок.\n",
    "for _ in range(10000):\n",
    "    # Генерируем первый набор данных с нормальным распределением, среднее значение 11, стандартное отклонение 10, размер выборки 1000.\n",
    "    data_fst = np.random.normal(11, 10, size=1000)\n",
    "    \n",
    "    # Генерируем второй набор данных с нормальным распределением, среднее значение 10, стандартное отклонение 1, размер выборки 100.\n",
    "    data_snd = np.random.normal(10, 1, size=100)\n",
    "    \n",
    "    # Вычисляем 95% доверительные интервалы для каждой выборки.\n",
    "    lower_fst, upper_fst = get_95_interval(data_fst)\n",
    "    lower_snd, upper_snd = get_95_interval(data_snd)\n",
    "    \n",
    "    # Увеличиваем счетчик общего количества выборок.\n",
    "    count += 1\n",
    "    \n",
    "    # Проверяем, пересекаются ли доверительные интервалы.\n",
    "    # Если интервалы не пересекаются, увеличиваем счетчик hits.\n",
    "    if not (lower_fst <= lower_snd <= upper_fst or lower_fst <= upper_snd <= upper_fst):\n",
    "        hits += 1\n",
    "\n",
    "# Выводим долю случаев, когда доверительные интервалы не пересекались.\n",
    "# Текст поясняет, что результат представляет собой долю случаев, когда критерий нашел различие между выборками.\n",
    "print(f\"Доля случаев, когда доверительные интервалы не пересекались (критерий нашел различие): {hits / count:.2f}\")\n"
   ]
  },
  {
   "cell_type": "markdown",
   "metadata": {},
   "source": [
    "Также проверим, как часто **различие** будет обнаруживаться, если его **нет**."
   ]
  },
  {
   "cell_type": "code",
   "execution_count": 61,
   "metadata": {
    "ExecuteTime": {
     "end_time": "2021-07-31T12:20:13.493788Z",
     "start_time": "2021-07-31T12:20:12.415154Z"
    }
   },
   "outputs": [
    {
     "name": "stdout",
     "output_type": "stream",
     "text": [
      "Доля случаев, когда доверительные интервалы не пересекались (критерий нашел различие): 0.01\n"
     ]
    }
   ],
   "source": [
    "# Инициализируем переменные.\n",
    "hits = 0.\n",
    "count = 0.\n",
    "\n",
    "# Запускаем цикл для генерации 10000 пар выборок.\n",
    "for _ in range(10000):\n",
    "    # Генерируем первый набор данных с нормальным распределением, среднее значение 10, стандартное отклонение 10, размер выборки 1000.\n",
    "    data_fst = np.random.normal(10, 10, size=1000)\n",
    "    \n",
    "    # Генерируем второй набор данных с нормальным распределением, среднее значение 10, стандартное отклонение 1, размер выборки 100.\n",
    "    data_snd = np.random.normal(10, 1, size=100)\n",
    "    \n",
    "    # Вычисляем 95% доверительные интервалы для каждой выборки.\n",
    "    lower_fst, upper_fst = get_95_interval(data_fst)\n",
    "    lower_snd, upper_snd = get_95_interval(data_snd)\n",
    "    \n",
    "    # Увеличиваем счетчик общего количества выборок.\n",
    "    count += 1\n",
    "    \n",
    "    # Проверяем, пересекаются ли доверительные интервалы.\n",
    "    # Если интервалы не пересекаются, увеличиваем счетчик hits.\n",
    "    if not (lower_fst <= lower_snd <= upper_fst or lower_fst <= upper_snd <= upper_fst):\n",
    "        hits += 1\n",
    "\n",
    "# Выводим долю случаев, когда доверительные интервалы не пересекались.\n",
    "# Текст поясняет, что результат представляет собой долю случаев, когда критерий нашел различие между выборками.\n",
    "print(f\"Доля случаев, когда доверительные интервалы не пересекались (критерий нашел различие): {hits / count:.2f}\")"
   ]
  },
  {
   "cell_type": "markdown",
   "metadata": {},
   "source": [
    "Также проверим, как часто различие будет обнаруживаться, если оно есть, но **очень маленькое**."
   ]
  },
  {
   "cell_type": "code",
   "execution_count": 62,
   "metadata": {
    "ExecuteTime": {
     "end_time": "2021-07-31T12:21:25.426750Z",
     "start_time": "2021-07-31T12:21:24.373956Z"
    }
   },
   "outputs": [
    {
     "name": "stdout",
     "output_type": "stream",
     "text": [
      "Доля случаев, когда доверительные интервалы не пересекались (критерий нашел различие): 0.02\n"
     ]
    }
   ],
   "source": [
    "# Инициализируем переменные.\n",
    "hits = 0.\n",
    "count = 0.\n",
    "\n",
    "# Запускаем цикл для генерации 10000 пар выборок.\n",
    "for _ in range(10000):\n",
    "    # Генерируем первый набор данных с нормальным распределением, среднее значение 10.1, стандартное отклонение 10, размер выборки 1000.\n",
    "    data_fst = np.random.normal(10.1, 10, size=1000)\n",
    "    \n",
    "    # Генерируем второй набор данных с нормальным распределением, среднее значение 10, стандартное отклонение 1, размер выборки 100.\n",
    "    data_snd = np.random.normal(10, 1, size=100)\n",
    "    \n",
    "    # Вычисляем 95% доверительные интервалы для каждой выборки.\n",
    "    lower_fst, upper_fst = get_95_interval(data_fst)\n",
    "    lower_snd, upper_snd = get_95_interval(data_snd)\n",
    "    \n",
    "    # Увеличиваем счетчик общего количества выборок.\n",
    "    count += 1\n",
    "    \n",
    "    # Проверяем, пересекаются ли доверительные интервалы.\n",
    "    # Если интервалы не пересекаются, увеличиваем счетчик hits.\n",
    "    if not (lower_fst <= lower_snd <= upper_fst or lower_fst <= upper_snd <= upper_fst):\n",
    "        hits += 1\n",
    "\n",
    "# Выводим долю случаев, когда доверительные интервалы не пересекались.\n",
    "# Текст поясняет, что результат представляет собой долю случаев, когда критерий нашел различие между выборками.\n",
    "print(f\"Доля случаев, когда доверительные интервалы не пересекались (критерий нашел различие): {hits / count:.2f}\")\n"
   ]
  },
  {
   "cell_type": "markdown",
   "metadata": {},
   "source": [
    "**Немножко формул! Но я уверен, Вам они уже не страшны!**\n",
    "\n",
    "В простом варианте давайте вычтем две незавимых случайных величины друг из друга\n",
    "\n",
    "$\\mathcal{N}(a_1, \\sigma_1^2) - \\mathcal{N}(a_2, \\sigma_2^2) \\sim \\mathcal{N}(a_1 - a_2, \\sigma_1^2 + \\sigma_2^2)$ \n",
    "\n",
    "То есть в нашем случае $\\frac{\\sum\\limits_{i=1}^{n^1} \\xi_i^1}{n^1} - \\frac{\\sum\\limits_{i=1}^{n^2} \\xi_i^2}{n^2}$ будет распределена примерно как $\\mathcal{N}(E \\xi_1^1 - E \\xi_1^2, \\frac{D \\xi_1^1}{n^1} + \\frac{D \\xi_1^2}{n^2})$"
   ]
  },
  {
   "cell_type": "markdown",
   "metadata": {},
   "source": [
    "Проверим те же параметры, что и в предыдущем случае.\n",
    "\n",
    "Опять же варьируем только средние значения наших выборок."
   ]
  },
  {
   "cell_type": "code",
   "execution_count": 66,
   "metadata": {
    "ExecuteTime": {
     "end_time": "2021-07-31T12:22:34.920883Z",
     "start_time": "2021-07-31T12:22:33.808212Z"
    }
   },
   "outputs": [
    {
     "name": "stdout",
     "output_type": "stream",
     "text": [
      "Доля случаев, когда тестовая статистика показала значимость различий: 0.85\n"
     ]
    }
   ],
   "source": [
    "# Инициализируем переменные.\n",
    "hits = 0.\n",
    "count = 0.\n",
    "\n",
    "# Запускаем цикл для генерации 10000 пар выборок.\n",
    "for _ in range(10000):\n",
    "    # Генерируем первый набор данных с нормальным распределением, среднее значение 11, стандартное отклонение 10, размер выборки 1000.\n",
    "    data_fst = np.random.normal(11, 10, size=1000)\n",
    "    \n",
    "    # Генерируем второй набор данных с нормальным распределением, среднее значение 10, стандартное отклонение 1, размер выборки 100.\n",
    "    data_snd = np.random.normal(10, 1, size=100)\n",
    "    \n",
    "    # Вычисляем тестовую статистику для сравнения средних значений двух выборок.\n",
    "    stat = (\n",
    "        (data_fst.mean() - data_snd.mean()) \n",
    "        / \n",
    "        np.sqrt(1. * data_fst.std() ** 2 / len(data_fst) + 1. * data_snd.std() ** 2 / len(data_snd))\n",
    "    )\n",
    "\n",
    "    # Увеличиваем счетчик общего количества выборок.\n",
    "    count += 1\n",
    "    \n",
    "    # Проверяем, превышает ли абсолютное значение статистики критическое значение 1.96.\n",
    "    # Если превышает, увеличиваем счетчик hits.\n",
    "    if abs(stat) > 1.96:\n",
    "        hits += 1\n",
    "\n",
    "# Выводим долю случаев, когда тестовая статистика показала значимость различий.\n",
    "# Текст поясняет, что результат представляет собой долю случаев, когда критерий нашел значимые различия между выборками.\n",
    "print(f\"Доля случаев, когда тестовая статистика показала значимость различий: {hits / count:.2f}\")"
   ]
  },
  {
   "cell_type": "code",
   "execution_count": 67,
   "metadata": {
    "ExecuteTime": {
     "end_time": "2021-07-31T12:22:36.884558Z",
     "start_time": "2021-07-31T12:22:35.753361Z"
    }
   },
   "outputs": [
    {
     "name": "stdout",
     "output_type": "stream",
     "text": [
      "Доля случаев, когда тестовая статистика показала значимость различий: 0.05\n"
     ]
    }
   ],
   "source": [
    "# Инициализируем переменные.\n",
    "hits = 0.\n",
    "count = 0.\n",
    "\n",
    "# Запускаем цикл для генерации 10000 пар выборок.\n",
    "for _ in range(10000):\n",
    "    # Генерируем первый набор данных с нормальным распределением, среднее значение 10, стандартное отклонение 10, размер выборки 1000.\n",
    "    data_fst = np.random.normal(10, 10, size=1000)\n",
    "    \n",
    "    # Генерируем второй набор данных с нормальным распределением, среднее значение 10, стандартное отклонение 1, размер выборки 100.\n",
    "    data_snd = np.random.normal(10, 1, size=100)\n",
    "    \n",
    "    # Вычисляем тестовую статистику для сравнения средних значений двух выборок.\n",
    "    stat = (\n",
    "        (data_fst.mean() - data_snd.mean()) \n",
    "        / \n",
    "        np.sqrt(1. * data_fst.std() ** 2 / len(data_fst) + 1. * data_snd.std() ** 2 / len(data_snd))\n",
    "    )\n",
    "\n",
    "    # Увеличиваем счетчик общего количества выборок.\n",
    "    count += 1\n",
    "    \n",
    "    # Проверяем, превышает ли абсолютное значение статистики критическое значение 1.96.\n",
    "    # Если превышает, увеличиваем счетчик hits.\n",
    "    if abs(stat) > 1.96:\n",
    "        hits += 1\n",
    "\n",
    "# Выводим долю случаев, когда тестовая статистика показала значимость различий.\n",
    "# Текст поясняет, что результат представляет собой долю случаев, когда критерий нашел значимые различия между выборками.\n",
    "print(f\"Доля случаев, когда тестовая статистика показала значимость различий: {hits / count:.2f}\")"
   ]
  },
  {
   "cell_type": "code",
   "execution_count": 68,
   "metadata": {
    "ExecuteTime": {
     "end_time": "2021-07-31T12:22:40.643259Z",
     "start_time": "2021-07-31T12:22:39.588781Z"
    }
   },
   "outputs": [
    {
     "name": "stdout",
     "output_type": "stream",
     "text": [
      "Доля случаев, когда тестовая статистика показала значимость различий: 0.06\n"
     ]
    }
   ],
   "source": [
    "# Инициализируем переменные.\n",
    "hits = 0.\n",
    "count = 0.\n",
    "\n",
    "# Запускаем цикл для генерации 10000 пар выборок.\n",
    "for _ in range(10000):\n",
    "    # Генерируем первый набор данных с нормальным распределением, среднее значение 10.1, стандартное отклонение 10, размер выборки 1000.\n",
    "    data_fst = np.random.normal(10.1, 10, size=1000)\n",
    "    \n",
    "    # Генерируем второй набор данных с нормальным распределением, среднее значение 10, стандартное отклонение 1, размер выборки 100.\n",
    "    data_snd = np.random.normal(10, 1, size=100)\n",
    "    \n",
    "    # Вычисляем тестовую статистику для сравнения средних значений двух выборок.\n",
    "    stat = (\n",
    "        (data_fst.mean() - data_snd.mean()) \n",
    "        / \n",
    "        np.sqrt(1. * data_fst.std() ** 2 / len(data_fst) + 1. * data_snd.std() ** 2 / len(data_snd))\n",
    "    )\n",
    "\n",
    "    # Увеличиваем счетчик общего количества выборок.\n",
    "    count += 1\n",
    "    \n",
    "    # Проверяем, превышает ли абсолютное значение статистики критическое значение 1.96.\n",
    "    # Если превышает, увеличиваем счетчик hits.\n",
    "    if abs(stat) > 1.96:\n",
    "        hits += 1\n",
    "\n",
    "# Выводим долю случаев, когда тестовая статистика показала значимость различий.\n",
    "# Текст поясняет, что результат представляет собой долю случаев, когда критерий нашел значимые различия между выборками.\n",
    "print(f\"Доля случаев, когда тестовая статистика показала значимость различий: {hits / count:.2f}\")"
   ]
  },
  {
   "cell_type": "markdown",
   "metadata": {},
   "source": [
    "Это уже более похоже на то, чего нам бы хотелось!"
   ]
  },
  {
   "cell_type": "markdown",
   "metadata": {},
   "source": [
    "# Статистические тесты с помощью библиотеки SciPy 👨‍💻"
   ]
  },
  {
   "cell_type": "markdown",
   "metadata": {},
   "source": [
    "Ранее мы вручную рассчитывали статистику теста для выявления различий между выборками. Однако, каждый раз писать такие критерии было бы чересчур утомительно, особенно учитывая, что в модуле `scipy` уже есть готовые функции для различных статистических тестов. Это позволяет существенно упростить и ускорить процесс анализа данных.\n",
    "\n",
    "Библиотека `scipy` предоставляет широкий набор статистических тестов, в которых уже реализованы все необходимые формулы. Вам нужно лишь вызвать соответствующую функцию и передать ей данные. Это делает анализ данных не только более эффективным, но и уменьшает вероятность ошибок, связанных с ручным вычислением.\n",
    "\n",
    "Давайте рассмотрим примеры использования `scipy` для выполнения статистических тестов."
   ]
  },
  {
   "cell_type": "markdown",
   "metadata": {},
   "source": [
    "## О смысле p-value, корректности и мощности\n",
    "\n",
    "Одним из важных результатов статистических тестов является **p-value**. **p-value** (уровень значимости) помогает определить, насколько сильны доказательства против нулевой гипотезы. Малое значение p-value (обычно меньше 0.05) указывает на то, что различия между выборками значимы и маловероятны при условии истинности нулевой гипотезы."
   ]
  },
  {
   "cell_type": "markdown",
   "metadata": {},
   "source": [
    "Каким образом мы можем получить наш уровень значимости из готовых библиотек?"
   ]
  },
  {
   "cell_type": "code",
   "execution_count": 77,
   "metadata": {
    "ExecuteTime": {
     "end_time": "2021-07-31T12:23:51.033649Z",
     "start_time": "2021-07-31T12:23:51.022442Z"
    }
   },
   "outputs": [
    {
     "name": "stdout",
     "output_type": "stream",
     "text": [
      "p-value нашего теста: 0.0371495019515154\n"
     ]
    }
   ],
   "source": [
    "print(f\"p-value нашего теста: {scipy.stats.ttest_ind(data_fst, data_snd).pvalue}\")"
   ]
  },
  {
   "cell_type": "markdown",
   "metadata": {},
   "source": [
    "## Почему нам нужно понимать, какой p-value мы имеем? 🤔\n",
    "\n",
    "**p-value** является важным показателем, который позволяет нам сделать выводы о значимости различий между выборками. Вот несколько причин, почему расчёт p-value важно:\n",
    "\n",
    "* **Оценка значимости**: p-value позволяет оценить, являются ли наблюдаемые различия статистически значимыми. Это помогает понять, можно ли отвергнуть нулевую гипотезу.\n",
    "* **Простота интерпретации**: p-value предоставляет простой и понятный способ интерпретации результатов теста. Малое значение p-value указывает на значительные различия, в то время как большое значение p-value указывает на отсутствие значительных различий.\n",
    "* **Принятие решений**: Вытягивание p-value помогает в принятии обоснованных решений на основе статистических данных. Это важно в научных исследованиях, бизнес-аналитике и других областях."
   ]
  },
  {
   "cell_type": "markdown",
   "metadata": {},
   "source": [
    "Давайте рассмотрим гистограмму распределения p-value, чтобы увидеть, как часто t-тест Стьюдента находит значимые различия между выборками. Мы будем использовать функцию `scipy.stats.ttest_ind`, которая будет хранить соответсвующий атрибут `pvalue`. \n",
    "\n",
    "В идеальном случае, если нулевая гипотеза верна (т.е. выборки взяты из одного и того же распределения), p-value должны быть равномерно распределены между 0 и 1. Если выборки действительно различаются, гистограмма может показать смещение в сторону меньших значений p-value, что указывает на более частое нахождение значимых различий."
   ]
  },
  {
   "cell_type": "code",
   "execution_count": 95,
   "metadata": {},
   "outputs": [
    {
     "data": {
      "image/png": "[encoded data removed]",
      "text/plain": [
       "<Figure size 640x480 with 1 Axes>"
      ]
     },
     "metadata": {},
     "output_type": "display_data"
    }
   ],
   "source": [
    "import numpy as np\n",
    "import scipy.stats\n",
    "import matplotlib.pyplot as plt\n",
    "from matplotlib.ticker import FuncFormatter\n",
    "\n",
    "# Создаем список для хранения p-value\n",
    "pvalues = []\n",
    "\n",
    "# Запускаем цикл для генерации 10000 пар выборок и вычисления p-value\n",
    "for _ in range(10000):\n",
    "    # Генерируем первый набор данных с нормальным распределением, среднее значение 10, стандартное отклонение 10, размер выборки 100.\n",
    "    data_fst = np.random.normal(10, 10, size=100)\n",
    "    \n",
    "    # Генерируем второй набор данных с нормальным распределением, среднее значение 10, стандартное отклонение 1, размер выборки 100.\n",
    "    data_snd = np.random.normal(10, 1, size=100)\n",
    "    \n",
    "    # Применяем t-тест Стьюдента для независимых выборок и сохраняем p-value\n",
    "    pvalues.append(scipy.stats.ttest_ind(data_fst, data_snd).pvalue)\n",
    "    \n",
    "# Функция для форматирования чисел с разделением тысячных пробелами\n",
    "def thousands_formatter(x, pos):\n",
    "    return '{:,.0f}'.format(x).replace(',', ' ')\n",
    "\n",
    "# Строим гистограмму распределения p-value\n",
    "plt.hist(pvalues, bins=50, edgecolor='k')\n",
    "plt.xlabel('p-value')\n",
    "plt.ylabel('Frequency')\n",
    "plt.title('Histogram of p-values from t-tests')\n",
    "\n",
    "# Применяем форматирование оси Y\n",
    "plt.gca().yaxis.set_major_formatter(FuncFormatter(thousands_formatter))\n",
    "plt.show()"
   ]
  },
  {
   "cell_type": "markdown",
   "metadata": {},
   "source": [
    "### Что мы видим? 🤓\n",
    "\n",
    "Равномерное распределение p-value на гистограмме свидетельствует о том, что в большинстве случаев t-тест Стьюдента не находит значимых различий между выборками. Это соответствует ситуации, когда выборки имеют одинаковое среднее значение и различие между ними является незначительным."
   ]
  },
  {
   "cell_type": "markdown",
   "metadata": {},
   "source": [
    "Теперь давайте рассмотрим, как часто t-тест Стьюдента находит значимые различия между выборками, которые на самом деле не различаются (ошибка первого рода)."
   ]
  },
  {
   "cell_type": "code",
   "execution_count": 96,
   "metadata": {},
   "outputs": [
    {
     "name": "stdout",
     "output_type": "stream",
     "text": [
      "0.0534\n"
     ]
    }
   ],
   "source": [
    "import numpy as np\n",
    "import scipy.stats\n",
    "\n",
    "# Создаем список для хранения результатов проверки p-value < 0.05\n",
    "bad_pvalues = []\n",
    "\n",
    "# Запускаем цикл для генерации 10000 пар выборок и проверки p-value\n",
    "for _ in range(10000):\n",
    "    # Генерируем первый набор данных с нормальным распределением, среднее значение 10, стандартное отклонение 10, размер выборки 100.\n",
    "    data_fst = np.random.normal(10, 10, size=100)\n",
    "    \n",
    "    # Генерируем второй набор данных с нормальным распределением, среднее значение 10, стандартное отклонение 1, размер выборки 100.\n",
    "    data_snd = np.random.normal(10, 1, size=100)\n",
    "    \n",
    "    # Применяем t-тест Стьюдента для независимых выборок и сохраняем результат проверки p-value < 0.05\n",
    "    bad_pvalues.append(scipy.stats.ttest_ind(data_fst, data_snd).pvalue < 0.05)\n",
    "\n",
    "# Вычисляем и выводим долю случаев, когда p-value < 0.05\n",
    "print(np.mean(bad_pvalues))"
   ]
  },
  {
   "cell_type": "markdown",
   "metadata": {},
   "source": [
    "В предыдущем примере мы рассмотрели, как часто t-тест Стьюдента находит значимые различия между выборками, которые на самом деле не различаются (ошибка первого рода). Теперь давайте посмотрим, как часто t-тест находит значимые различия, когда различия действительно существуют."
   ]
  },
  {
   "cell_type": "code",
   "execution_count": 97,
   "metadata": {},
   "outputs": [
    {
     "name": "stdout",
     "output_type": "stream",
     "text": [
      "0.1656\n"
     ]
    },
    {
     "data": {
      "image/png": "[encoded data removed]",
      "text/plain": [
       "<Figure size 640x480 with 1 Axes>"
      ]
     },
     "metadata": {},
     "output_type": "display_data"
    }
   ],
   "source": [
    "import numpy as np\n",
    "import scipy.stats\n",
    "import matplotlib.pyplot as plt\n",
    "\n",
    "# Создаем список для хранения p-value\n",
    "pvalues = []\n",
    "\n",
    "# Запускаем цикл для генерации 10000 пар выборок и вычисления p-value\n",
    "for _ in range(10000):\n",
    "    # Генерируем первый набор данных с нормальным распределением, среднее значение 11, стандартное отклонение 10, размер выборки 100.\n",
    "    data_fst = np.random.normal(11, 10, size=100)\n",
    "    \n",
    "    # Генерируем второй набор данных с нормальным распределением, среднее значение 10, стандартное отклонение 1, размер выборки 100.\n",
    "    data_snd = np.random.normal(10, 1, size=100)\n",
    "    \n",
    "    # Применяем t-тест Стьюдента для независимых выборок и сохраняем p-value\n",
    "    pvalues.append(scipy.stats.ttest_ind(data_fst, data_snd).pvalue)\n",
    "\n",
    "# Вычисляем и выводим долю случаев, когда p-value < 0.05\n",
    "print((np.array(pvalues) < 0.05).mean())\n",
    "\n",
    "# Строим гистограмму распределения p-value\n",
    "plt.hist(pvalues, bins=50, edgecolor='k')\n",
    "plt.xlabel('p-value')\n",
    "plt.ylabel('Frequency')\n",
    "plt.title('Histogram of p-values from t-tests')\n",
    "\n",
    "# Применяем форматирование оси Y\n",
    "plt.gca().yaxis.set_major_formatter(FuncFormatter(thousands_formatter))\n",
    "plt.show()\n"
   ]
  },
  {
   "cell_type": "markdown",
   "metadata": {},
   "source": [
    "### Что мы видим? 🤓\n",
    "\n",
    "Гистограмма распределения p-value показывает, что t-тест Стьюдента часто находит значимые различия между выборками, когда их средние значения действительно различаются (в данном случае 11 и 10). Высокая частота значений p-value около 0 подтверждает это. В меньшем количестве случаев p-value распределены равномерно по диапазону от 0.5 до 1, указывая на ситуации, когда различия между выборками не были статистически значимыми."
   ]
  },
  {
   "cell_type": "markdown",
   "metadata": {},
   "source": [
    "А что будет, если мы ещё **сильнее увеличием различие** между выборками путём увеличения среднего с 11 до 12?"
   ]
  },
  {
   "cell_type": "code",
   "execution_count": 98,
   "metadata": {},
   "outputs": [
    {
     "name": "stdout",
     "output_type": "stream",
     "text": [
      "0.508\n"
     ]
    },
    {
     "data": {
      "image/png": "[encoded data removed]",
      "text/plain": [
       "<Figure size 640x480 with 1 Axes>"
      ]
     },
     "metadata": {},
     "output_type": "display_data"
    }
   ],
   "source": [
    "import numpy as np\n",
    "import scipy.stats\n",
    "import matplotlib.pyplot as plt\n",
    "\n",
    "# Создаем список для хранения p-value\n",
    "pvalues = []\n",
    "\n",
    "# Запускаем цикл для генерации 10000 пар выборок и вычисления p-value\n",
    "for _ in range(10000):\n",
    "    # Генерируем первый набор данных с нормальным распределением, среднее значение 12, стандартное отклонение 10, размер выборки 100.\n",
    "    data_fst = np.random.normal(12, 10, size=100)\n",
    "    \n",
    "    # Генерируем второй набор данных с нормальным распределением, среднее значение 10, стандартное отклонение 1, размер выборки 100.\n",
    "    data_snd = np.random.normal(10, 1, size=100)\n",
    "    \n",
    "    # Применяем t-тест Стьюдента для независимых выборок и сохраняем p-value\n",
    "    pvalues.append(scipy.stats.ttest_ind(data_fst, data_snd).pvalue)\n",
    "\n",
    "# Вычисляем и выводим долю случаев, когда p-value < 0.05\n",
    "print((np.array(pvalues) < 0.05).mean())\n",
    "\n",
    "# Строим гистограмму распределения p-value\n",
    "plt.hist(pvalues, bins=50, edgecolor='k')\n",
    "plt.xlabel('p-value')\n",
    "plt.ylabel('Frequency')\n",
    "plt.title('Histogram of p-values from t-tests')\n",
    "\n",
    "# Применяем форматирование оси Y\n",
    "plt.gca().yaxis.set_major_formatter(FuncFormatter(thousands_formatter))\n",
    "plt.show()"
   ]
  },
  {
   "cell_type": "markdown",
   "metadata": {},
   "source": [
    "### Что мы видим? 🤓\n",
    "\n",
    "С увеличением разницы среднего мы замечаем явный сдвиг в сторону 0, объясняющийся тем, что t-тест Стьюдента часто находит значимые различия между выборками, когда их средние значения действительно различаются (в данном случае 12 и 10)."
   ]
  },
  {
   "cell_type": "markdown",
   "metadata": {},
   "source": [
    "А если мы **сохраним условия среднего (11 и 10)**, но **увеличим размер выборок**? Как себя поведёт гистограмма?"
   ]
  },
  {
   "cell_type": "code",
   "execution_count": 99,
   "metadata": {},
   "outputs": [
    {
     "name": "stdout",
     "output_type": "stream",
     "text": [
      "0.8744\n"
     ]
    },
    {
     "data": {
      "image/png": "[encoded data removed]",
      "text/plain": [
       "<Figure size 640x480 with 1 Axes>"
      ]
     },
     "metadata": {},
     "output_type": "display_data"
    }
   ],
   "source": [
    "import numpy as np\n",
    "import scipy.stats\n",
    "import matplotlib.pyplot as plt\n",
    "\n",
    "# Создаем список для хранения p-value\n",
    "pvalues = []\n",
    "\n",
    "# Запускаем цикл для генерации 10000 пар выборок и вычисления p-value\n",
    "for _ in range(10000):\n",
    "    # Генерируем первый набор данных с нормальным распределением, среднее значение 11, стандартное отклонение 10, размер выборки 1000.\n",
    "    data_fst = np.random.normal(11, 10, size=1000)\n",
    "    \n",
    "    # Генерируем второй набор данных с нормальным распределением, среднее значение 10, стандартное отклонение 1, размер выборки 1000.\n",
    "    data_snd = np.random.normal(10, 1, size=1000)\n",
    "    \n",
    "    # Применяем t-тест Стьюдента для независимых выборок и сохраняем p-value\n",
    "    pvalues.append(scipy.stats.ttest_ind(data_fst, data_snd).pvalue)\n",
    "\n",
    "# Вычисляем и выводим долю случаев, когда p-value < 0.05\n",
    "print((np.array(pvalues) < 0.05).mean())\n",
    "\n",
    "# Строим гистограмму распределения p-value\n",
    "plt.hist(pvalues, bins=50, edgecolor='k')\n",
    "plt.xlabel('p-value')\n",
    "plt.ylabel('Frequency')\n",
    "plt.title('Histogram of p-values from t-tests')\n",
    "\n",
    "# Применяем форматирование оси Y\n",
    "plt.gca().yaxis.set_major_formatter(FuncFormatter(thousands_formatter))\n",
    "plt.show()\n"
   ]
  },
  {
   "cell_type": "markdown",
   "metadata": {},
   "source": [
    "### Что мы видим? 🤓\n",
    "\n",
    "На гистограмме видно, что большая часть значений p-value сконцентрирована вблизи 0. Это указывает на то, что t-тест Стьюдента **почти всегда находит значимые различия между выборками**, когда их размер увеличивается до 1000 и средние значения отличаются (11 и 10).\n",
    "\n",
    "Частота значений p-value **значительно уменьшается по мере увеличения значения p-value**, что подтверждает высокую мощность теста при больших выборках. Гистограмма показывает, что t-тест Стьюдента эффективно выявляет значимые различия при увеличении размера выборок."
   ]
  },
  {
   "cell_type": "code",
   "execution_count": null,
   "metadata": {},
   "outputs": [],
   "source": []
  },
  {
   "cell_type": "code",
   "execution_count": null,
   "metadata": {},
   "outputs": [],
   "source": []
  },
  {
   "cell_type": "code",
   "execution_count": 80,
   "metadata": {
    "ExecuteTime": {
     "end_time": "2021-07-31T12:24:11.215722Z",
     "start_time": "2021-07-31T12:24:08.392024Z"
    }
   },
   "outputs": [
    {
     "name": "stdout",
     "output_type": "stream",
     "text": [
      "Доля случаев, когда p-value < 0.05: 0.00\n"
     ]
    }
   ],
   "source": [
    "hits = 0.\n",
    "count = 0.\n",
    "\n",
    "for _ in range(10000):\n",
    "    data_fst = np.random.normal(11, 10, size=1000)\n",
    "    data_snd = np.random.normal(10, 1, size=100)\n",
    "\n",
    "    count += 1\n",
    "    if scipy.stats.ttest_ind(data_fst, data_snd).pvalue < 0.05:\n",
    "        hits += 1\n",
    "\n",
    "print(hits / count)"
   ]
  },
  {
   "cell_type": "code",
   "execution_count": null,
   "metadata": {
    "ExecuteTime": {
     "end_time": "2021-07-31T12:24:31.167478Z",
     "start_time": "2021-07-31T12:24:28.479129Z"
    }
   },
   "outputs": [],
   "source": [
    "hits = 0.\n",
    "count = 0.\n",
    "\n",
    "for _ in range(10000):\n",
    "    data_fst = np.random.normal(10, 10, size=1000)\n",
    "    data_snd = np.random.normal(10, 1, size=100)\n",
    "\n",
    "    count += 1\n",
    "    if scipy.stats.ttest_ind(data_fst, data_snd).pvalue < 0.05:\n",
    "        hits += 1\n",
    "\n",
    "print(hits / count)"
   ]
  },
  {
   "cell_type": "markdown",
   "metadata": {},
   "source": [
    "сломалось("
   ]
  },
  {
   "cell_type": "code",
   "execution_count": null,
   "metadata": {
    "ExecuteTime": {
     "end_time": "2021-07-31T12:25:38.249364Z",
     "start_time": "2021-07-31T12:25:35.378853Z"
    }
   },
   "outputs": [],
   "source": [
    "hits = 0.\n",
    "count = 0.\n",
    "\n",
    "for _ in range(10000):\n",
    "    data_fst = np.random.normal(11, 10, size=1000)\n",
    "    data_snd = np.random.normal(10, 1, size=100)\n",
    "\n",
    "    count += 1\n",
    "    if scipy.stats.ttest_ind(data_fst, data_snd, equal_var=False).pvalue < 0.05:\n",
    "        hits += 1\n",
    "\n",
    "print(hits / count)"
   ]
  },
  {
   "cell_type": "code",
   "execution_count": null,
   "metadata": {
    "ExecuteTime": {
     "end_time": "2021-07-31T12:25:42.582702Z",
     "start_time": "2021-07-31T12:25:39.191276Z"
    }
   },
   "outputs": [],
   "source": [
    "hits = 0.\n",
    "count = 0.\n",
    "\n",
    "for _ in range(10000):\n",
    "    data_fst = np.random.normal(10, 10, size=1000)\n",
    "    data_snd = np.random.normal(10, 1, size=100)\n",
    "\n",
    "    count += 1\n",
    "    if scipy.stats.ttest_ind(data_fst, data_snd, equal_var=False).pvalue < 0.05:\n",
    "        hits += 1\n",
    "\n",
    "print(hits / count)"
   ]
  },
  {
   "cell_type": "markdown",
   "metadata": {},
   "source": [
    "Примерно как и ЦПТ, только не надо париться с формулами"
   ]
  },
  {
   "cell_type": "code",
   "execution_count": null,
   "metadata": {},
   "outputs": [],
   "source": []
  },
  {
   "cell_type": "markdown",
   "metadata": {},
   "source": [
    "Давайте другой тест возьмём, например, Мана-Уитни"
   ]
  },
  {
   "cell_type": "code",
   "execution_count": null,
   "metadata": {
    "ExecuteTime": {
     "end_time": "2021-07-31T12:26:35.002420Z",
     "start_time": "2021-07-31T12:26:24.940636Z"
    }
   },
   "outputs": [],
   "source": [
    "hits = 0.\n",
    "count = 0.\n",
    "\n",
    "for _ in range(10000):\n",
    "    data_fst = np.random.normal(11, 10, size=1000)\n",
    "    data_snd = np.random.normal(10, 1, size=100)\n",
    "\n",
    "    count += 1\n",
    "    if scipy.stats.mannwhitneyu(data_fst, data_snd, alternative='two-sided').pvalue < 0.05:\n",
    "        hits += 1\n",
    "\n",
    "print(hits / count)"
   ]
  },
  {
   "cell_type": "code",
   "execution_count": null,
   "metadata": {
    "ExecuteTime": {
     "end_time": "2021-07-31T12:26:45.034348Z",
     "start_time": "2021-07-31T12:26:35.004848Z"
    }
   },
   "outputs": [],
   "source": [
    "hits = 0.\n",
    "count = 0.\n",
    "\n",
    "for _ in range(10000):\n",
    "    data_fst = np.random.normal(10, 10, size=1000)\n",
    "    data_snd = np.random.normal(10, 1, size=100)\n",
    "\n",
    "    count += 1\n",
    "    if scipy.stats.mannwhitneyu(data_fst, data_snd, alternative='two-sided').pvalue < 0.05:\n",
    "        hits += 1\n",
    "\n",
    "print(hits / count)"
   ]
  },
  {
   "cell_type": "code",
   "execution_count": null,
   "metadata": {
    "ExecuteTime": {
     "end_time": "2021-07-31T12:26:54.911185Z",
     "start_time": "2021-07-31T12:26:45.036045Z"
    }
   },
   "outputs": [],
   "source": [
    "hits = 0.\n",
    "count = 0.\n",
    "\n",
    "for _ in range(10000):\n",
    "    data_fst = np.random.normal(0, 10, size=1000)\n",
    "    data_snd = np.random.normal(0, 1, size=100)\n",
    "\n",
    "    count += 1\n",
    "    if scipy.stats.mannwhitneyu(data_fst, data_snd, alternative='two-sided').pvalue < 0.05:\n",
    "        hits += 1\n",
    "\n",
    "print(hits / count)"
   ]
  },
  {
   "cell_type": "markdown",
   "metadata": {},
   "source": [
    "Думаете всё сломалось? Нет, просто у этого критерия другая нулевая гипотеза!"
   ]
  },
  {
   "cell_type": "code",
   "execution_count": null,
   "metadata": {
    "ExecuteTime": {
     "end_time": "2021-07-31T12:27:40.864486Z",
     "start_time": "2021-07-31T12:27:31.718148Z"
    }
   },
   "outputs": [],
   "source": [
    "hits = 0.\n",
    "count = 0.\n",
    "\n",
    "for _ in range(10000):\n",
    "    data_fst = np.random.normal(0, 1, size=1000)\n",
    "    data_snd = np.random.normal(0, 1, size=100)\n",
    "\n",
    "    count += 1\n",
    "    if scipy.stats.mannwhitneyu(data_fst, data_snd, alternative='two-sided').pvalue < 0.05:\n",
    "        hits += 1\n",
    "\n",
    "print(hits / count)"
   ]
  },
  {
   "cell_type": "code",
   "execution_count": null,
   "metadata": {
    "ExecuteTime": {
     "end_time": "2021-07-31T12:27:51.786109Z",
     "start_time": "2021-07-31T12:27:41.826315Z"
    }
   },
   "outputs": [],
   "source": [
    "hits = 0.\n",
    "count = 0.\n",
    "\n",
    "for _ in range(10000):\n",
    "    data_fst = np.random.normal(0, 1, size=1000)\n",
    "    data_snd = np.random.normal(1, 1, size=100)\n",
    "\n",
    "    count += 1\n",
    "    if scipy.stats.mannwhitneyu(data_fst, data_snd, alternative='two-sided').pvalue < 0.05:\n",
    "        hits += 1\n",
    "\n",
    "print(hits / count)"
   ]
  },
  {
   "cell_type": "code",
   "execution_count": null,
   "metadata": {},
   "outputs": [],
   "source": []
  },
  {
   "cell_type": "markdown",
   "metadata": {},
   "source": [
    "# Перестановочные тесты"
   ]
  },
  {
   "cell_type": "code",
   "execution_count": null,
   "metadata": {
    "ExecuteTime": {
     "end_time": "2021-07-31T12:37:50.081641Z",
     "start_time": "2021-07-31T12:37:50.076115Z"
    }
   },
   "outputs": [],
   "source": [
    "def my_test(data_fst, data_snd, iters=1000, plot=True):\n",
    "    data = np.array(list(data_fst) + list(data_snd))\n",
    "    size = len(data)\n",
    "    values = []\n",
    "    fst_ratio = len(data_fst) * 1. / size\n",
    "    for _ in range(iters):\n",
    "        mask = (np.random.random(size=size) < fst_ratio)\n",
    "        values.append(data[mask].mean() - data[~mask].mean())\n",
    "        \n",
    "    if plot:\n",
    "        plt.hist(values, bins=30)\n",
    "        plt.show()\n",
    "        \n",
    "    return (np.abs(values) > np.abs(data_fst.mean() - data_snd.mean())).mean()"
   ]
  },
  {
   "cell_type": "markdown",
   "metadata": {},
   "source": [
    "### Корректно ли такое применение?"
   ]
  },
  {
   "cell_type": "code",
   "execution_count": null,
   "metadata": {
    "ExecuteTime": {
     "end_time": "2021-07-31T12:37:52.511340Z",
     "start_time": "2021-07-31T12:37:51.479317Z"
    }
   },
   "outputs": [],
   "source": [
    "data_fst = np.random.normal(0, 10, size=100)\n",
    "data_snd = np.random.normal(0, 1, size=100)\n",
    "\n",
    "print(scipy.stats.ttest_ind(data_fst, data_snd).pvalue)\n",
    "print(my_test(data_fst, data_snd, iters=10))\n",
    "print(my_test(data_fst, data_snd, iters=100))\n",
    "print(my_test(data_fst, data_snd, iters=1000))\n",
    "print(my_test(data_fst, data_snd, iters=10000))"
   ]
  },
  {
   "cell_type": "code",
   "execution_count": null,
   "metadata": {
    "ExecuteTime": {
     "end_time": "2021-07-31T12:38:41.231766Z",
     "start_time": "2021-07-31T12:38:40.161908Z"
    }
   },
   "outputs": [],
   "source": [
    "data_fst = np.random.normal(0, 10, size=100)\n",
    "data_snd = np.random.normal(1, 1, size=100)\n",
    "\n",
    "print(scipy.stats.ttest_ind(data_fst, data_snd).pvalue)\n",
    "print(my_test(data_fst, data_snd, iters=10))\n",
    "print(my_test(data_fst, data_snd, iters=100))\n",
    "print(my_test(data_fst, data_snd, iters=1000))\n",
    "print(my_test(data_fst, data_snd, iters=10000))"
   ]
  },
  {
   "cell_type": "markdown",
   "metadata": {},
   "source": [
    "К сожалению нет :("
   ]
  },
  {
   "cell_type": "markdown",
   "metadata": {},
   "source": [
    "Давайте в этом убедимся :("
   ]
  },
  {
   "cell_type": "code",
   "execution_count": null,
   "metadata": {
    "ExecuteTime": {
     "end_time": "2021-07-31T12:39:51.228194Z",
     "start_time": "2021-07-31T12:39:15.182089Z"
    }
   },
   "outputs": [],
   "source": [
    "hits = 0.\n",
    "count = 0.\n",
    "\n",
    "for _ in range(1000):\n",
    "    data_fst = np.random.normal(11, 10, size=1000)\n",
    "    data_snd = np.random.normal(10, 1, size=100)\n",
    "\n",
    "    count += 1\n",
    "    if my_test(data_fst, data_snd, plot=False, iters=1000) < 0.05:\n",
    "        hits += 1\n",
    "\n",
    "print(hits / count)"
   ]
  },
  {
   "cell_type": "code",
   "execution_count": null,
   "metadata": {
    "ExecuteTime": {
     "end_time": "2021-07-31T12:40:27.711025Z",
     "start_time": "2021-07-31T12:39:51.229607Z"
    }
   },
   "outputs": [],
   "source": [
    "hits = 0.\n",
    "count = 0.\n",
    "\n",
    "for _ in range(1000):\n",
    "    data_fst = np.random.normal(10, 10, size=1000)\n",
    "    data_snd = np.random.normal(10, 1, size=100)\n",
    "\n",
    "    count += 1\n",
    "    if my_test(data_fst, data_snd, plot=False, iters=1000) < 0.05:\n",
    "        hits += 1\n",
    "\n",
    "print(hits / count)"
   ]
  },
  {
   "cell_type": "code",
   "execution_count": null,
   "metadata": {},
   "outputs": [],
   "source": []
  },
  {
   "cell_type": "code",
   "execution_count": null,
   "metadata": {},
   "outputs": [],
   "source": []
  },
  {
   "cell_type": "markdown",
   "metadata": {},
   "source": [
    "Как с Мана-Уитни, нулевая гипотеза это что распределения совпадают"
   ]
  },
  {
   "cell_type": "code",
   "execution_count": null,
   "metadata": {
    "ExecuteTime": {
     "end_time": "2021-07-31T12:41:02.107743Z",
     "start_time": "2021-07-31T12:40:27.712685Z"
    }
   },
   "outputs": [],
   "source": [
    "hits = 0.\n",
    "count = 0.\n",
    "\n",
    "for _ in range(1000):\n",
    "    data_fst = np.random.normal(11, 1, size=1000)\n",
    "    data_snd = np.random.normal(10, 1, size=100)\n",
    "\n",
    "    count += 1\n",
    "    if my_test(data_fst, data_snd, plot=False, iters=1000) < 0.05:\n",
    "        hits += 1\n",
    "\n",
    "print(hits / count)"
   ]
  },
  {
   "cell_type": "code",
   "execution_count": null,
   "metadata": {
    "ExecuteTime": {
     "end_time": "2021-07-31T12:41:36.268735Z",
     "start_time": "2021-07-31T12:41:02.109065Z"
    }
   },
   "outputs": [],
   "source": [
    "hits = 0.\n",
    "count = 0.\n",
    "\n",
    "for _ in range(1000):\n",
    "    data_fst = np.random.normal(10, 1, size=1000)\n",
    "    data_snd = np.random.normal(10, 1, size=100)\n",
    "\n",
    "    count += 1\n",
    "    if my_test(data_fst, data_snd, plot=False, iters=1000) < 0.05:\n",
    "        hits += 1\n",
    "\n",
    "print(hits / count)"
   ]
  },
  {
   "cell_type": "markdown",
   "metadata": {},
   "source": [
    "Вот это уже неплохо"
   ]
  },
  {
   "cell_type": "code",
   "execution_count": null,
   "metadata": {},
   "outputs": [],
   "source": []
  },
  {
   "cell_type": "code",
   "execution_count": null,
   "metadata": {},
   "outputs": [],
   "source": []
  },
  {
   "cell_type": "markdown",
   "metadata": {},
   "source": [
    "# Bootstrap"
   ]
  },
  {
   "cell_type": "code",
   "execution_count": null,
   "metadata": {
    "ExecuteTime": {
     "end_time": "2021-07-31T12:45:42.808170Z",
     "start_time": "2021-07-31T12:45:42.802871Z"
    }
   },
   "outputs": [],
   "source": [
    "def my_bootstrap(data_fst, data_snd, iters=1000, plot=True):\n",
    "    values = []\n",
    "    for _ in range(iters):\n",
    "        values.append(\n",
    "            np.random.choice(data_fst, replace=True, size=len(data_fst)).mean()\n",
    "            -\n",
    "            np.random.choice(data_snd, replace=True, size=len(data_snd)).mean()\n",
    "        )\n",
    "        \n",
    "    if plot:\n",
    "        plt.hist(values, bins=30)\n",
    "        plt.show()\n",
    "        \n",
    "    return np.percentile(values, [2.5, 97.5])"
   ]
  },
  {
   "cell_type": "code",
   "execution_count": null,
   "metadata": {
    "ExecuteTime": {
     "end_time": "2021-07-31T12:45:43.797278Z",
     "start_time": "2021-07-31T12:45:43.486585Z"
    }
   },
   "outputs": [],
   "source": [
    "data_fst = np.random.normal(0, 10, size=1000)\n",
    "data_snd = np.random.normal(0, 1, size=100)\n",
    "\n",
    "print(scipy.stats.ttest_ind(data_fst, data_snd).pvalue)\n",
    "print(my_bootstrap(data_fst, data_snd, iters=1000, plot=True))"
   ]
  },
  {
   "cell_type": "code",
   "execution_count": null,
   "metadata": {
    "ExecuteTime": {
     "end_time": "2021-07-31T12:46:49.313945Z",
     "start_time": "2021-07-31T12:46:49.069743Z"
    }
   },
   "outputs": [],
   "source": [
    "data_fst = np.random.normal(1, 10, size=1000)\n",
    "data_snd = np.random.normal(0, 1, size=100)\n",
    "\n",
    "print(scipy.stats.ttest_ind(data_fst, data_snd).pvalue)\n",
    "print(my_bootstrap(data_fst, data_snd, iters=1000, plot=True))"
   ]
  },
  {
   "cell_type": "code",
   "execution_count": null,
   "metadata": {},
   "outputs": [],
   "source": []
  },
  {
   "cell_type": "code",
   "execution_count": null,
   "metadata": {},
   "outputs": [],
   "source": []
  },
  {
   "cell_type": "code",
   "execution_count": null,
   "metadata": {
    "ExecuteTime": {
     "end_time": "2021-07-31T12:48:26.929855Z",
     "start_time": "2021-07-31T12:47:25.177486Z"
    }
   },
   "outputs": [],
   "source": [
    "hits = 0.\n",
    "count = 0.\n",
    "\n",
    "for _ in range(1000):\n",
    "    data_fst = np.random.normal(11, 10, size=1000)\n",
    "    data_snd = np.random.normal(10, 1, size=100)\n",
    "\n",
    "    lower, upper = my_bootstrap(data_fst, data_snd, plot=False, iters=1000)\n",
    "    count += 1\n",
    "    if not (lower < 0 < upper):\n",
    "        hits += 1\n",
    "\n",
    "print(hits / count)"
   ]
  },
  {
   "cell_type": "code",
   "execution_count": null,
   "metadata": {
    "ExecuteTime": {
     "end_time": "2021-07-31T12:49:30.814700Z",
     "start_time": "2021-07-31T12:48:26.931342Z"
    }
   },
   "outputs": [],
   "source": [
    "hits = 0.\n",
    "count = 0.\n",
    "\n",
    "for _ in range(1000):\n",
    "    data_fst = np.random.normal(10, 10, size=1000)\n",
    "    data_snd = np.random.normal(10, 1, size=100)\n",
    "\n",
    "    lower, upper = my_bootstrap(data_fst, data_snd, plot=False, iters=1000)\n",
    "    count += 1\n",
    "    if not (lower < 0 < upper):\n",
    "        hits += 1\n",
    "\n",
    "print(hits / count)"
   ]
  },
  {
   "cell_type": "code",
   "execution_count": null,
   "metadata": {},
   "outputs": [],
   "source": []
  },
  {
   "cell_type": "code",
   "execution_count": null,
   "metadata": {},
   "outputs": [],
   "source": []
  },
  {
   "cell_type": "markdown",
   "metadata": {},
   "source": [
    "# Бакетное сэмплирование"
   ]
  },
  {
   "cell_type": "code",
   "execution_count": null,
   "metadata": {
    "ExecuteTime": {
     "end_time": "2021-07-31T12:50:02.130097Z",
     "start_time": "2021-07-31T12:49:53.652551Z"
    }
   },
   "outputs": [],
   "source": [
    "hits = 0.\n",
    "count = 0.\n",
    "\n",
    "for _ in range(10000):\n",
    "    data_fst = np.random.normal(10, 5, size=10000)\n",
    "    data_snd = np.random.normal(10, 1, size=10000)\n",
    "    \n",
    "    count += 1\n",
    "    if scipy.stats.ttest_ind(data_fst, data_snd, equal_var=False).pvalue < 0.05:\n",
    "        hits += 1\n",
    "\n",
    "print(hits / count)"
   ]
  },
  {
   "cell_type": "code",
   "execution_count": null,
   "metadata": {
    "ExecuteTime": {
     "end_time": "2021-07-31T12:50:10.082945Z",
     "start_time": "2021-07-31T12:50:02.131845Z"
    }
   },
   "outputs": [],
   "source": [
    "hits = 0.\n",
    "count = 0.\n",
    "\n",
    "for _ in range(10000):\n",
    "    data_fst = np.random.normal(10.1, 5, size=10000)\n",
    "    data_snd = np.random.normal(10, 1, size=10000)\n",
    "    \n",
    "    count += 1\n",
    "    if scipy.stats.ttest_ind(data_fst, data_snd, equal_var=False).pvalue < 0.05:\n",
    "        hits += 1\n",
    "\n",
    "print(hits / count)"
   ]
  },
  {
   "cell_type": "code",
   "execution_count": null,
   "metadata": {},
   "outputs": [],
   "source": []
  },
  {
   "cell_type": "markdown",
   "metadata": {},
   "source": [
    "делаем бакеты"
   ]
  },
  {
   "cell_type": "code",
   "execution_count": null,
   "metadata": {
    "ExecuteTime": {
     "end_time": "2021-07-31T12:51:14.310084Z",
     "start_time": "2021-07-31T12:51:05.357594Z"
    }
   },
   "outputs": [],
   "source": [
    "hits = 0.\n",
    "count = 0.\n",
    "\n",
    "for _ in range(10000):\n",
    "    data_fst = np.random.normal(10, 5, size=10000).reshape((100, 100)).mean(axis=1)\n",
    "    data_snd = np.random.normal(10, 1, size=10000).reshape((100, 100)).mean(axis=1)\n",
    "    \n",
    "    count += 1\n",
    "    if scipy.stats.ttest_ind(data_fst, data_snd, equal_var=False).pvalue < 0.05:\n",
    "        hits += 1\n",
    "\n",
    "print(hits / count)"
   ]
  },
  {
   "cell_type": "code",
   "execution_count": null,
   "metadata": {
    "ExecuteTime": {
     "end_time": "2021-07-31T12:51:22.532787Z",
     "start_time": "2021-07-31T12:51:14.312662Z"
    }
   },
   "outputs": [],
   "source": [
    "hits = 0.\n",
    "count = 0.\n",
    "\n",
    "for _ in range(10000):\n",
    "    data_fst = np.random.normal(10.1, 5, size=10000).reshape((100, 100)).mean(axis=1)\n",
    "    data_snd = np.random.normal(10, 1, size=10000).reshape((100, 100)).mean(axis=1)\n",
    "    \n",
    "    count += 1\n",
    "    if scipy.stats.ttest_ind(data_fst, data_snd, equal_var=False).pvalue < 0.05:\n",
    "        hits += 1\n",
    "\n",
    "print(hits / count)"
   ]
  },
  {
   "cell_type": "code",
   "execution_count": null,
   "metadata": {},
   "outputs": [],
   "source": []
  },
  {
   "cell_type": "markdown",
   "metadata": {},
   "source": [
    "Можно и суммы"
   ]
  },
  {
   "cell_type": "code",
   "execution_count": null,
   "metadata": {
    "ExecuteTime": {
     "end_time": "2021-07-31T12:52:05.765217Z",
     "start_time": "2021-07-31T12:51:57.553111Z"
    }
   },
   "outputs": [],
   "source": [
    "hits = 0.\n",
    "count = 0.\n",
    "\n",
    "for _ in range(10000):\n",
    "    data_fst = np.random.normal(10, 5, size=10000).reshape((100, 100)).sum(axis=1)\n",
    "    data_snd = np.random.normal(10, 1, size=10000).reshape((100, 100)).sum(axis=1)\n",
    "    \n",
    "    count += 1\n",
    "    if scipy.stats.ttest_ind(data_fst, data_snd, equal_var=False).pvalue < 0.05:\n",
    "        hits += 1\n",
    "\n",
    "print(hits / count)"
   ]
  },
  {
   "cell_type": "code",
   "execution_count": null,
   "metadata": {
    "ExecuteTime": {
     "end_time": "2021-07-31T12:52:14.029763Z",
     "start_time": "2021-07-31T12:52:05.766706Z"
    }
   },
   "outputs": [],
   "source": [
    "hits = 0.\n",
    "count = 0.\n",
    "\n",
    "for _ in range(10000):\n",
    "    data_fst = np.random.normal(10.1, 5, size=10000).reshape((100, 100)).sum(axis=1)\n",
    "    data_snd = np.random.normal(10, 1, size=10000).reshape((100, 100)).sum(axis=1)\n",
    "    \n",
    "    count += 1\n",
    "    if scipy.stats.ttest_ind(data_fst, data_snd, equal_var=False).pvalue < 0.05:\n",
    "        hits += 1\n",
    "\n",
    "print(hits / count)"
   ]
  },
  {
   "cell_type": "code",
   "execution_count": null,
   "metadata": {},
   "outputs": [],
   "source": []
  },
  {
   "cell_type": "markdown",
   "metadata": {},
   "source": [
    "А теперь усложним выборку"
   ]
  },
  {
   "cell_type": "code",
   "execution_count": null,
   "metadata": {
    "ExecuteTime": {
     "end_time": "2021-07-31T12:55:28.351335Z",
     "start_time": "2021-07-31T12:55:19.610449Z"
    }
   },
   "outputs": [],
   "source": [
    "hits = 0.\n",
    "count = 0.\n",
    "\n",
    "for _ in range(10000):\n",
    "    params_fst = np.random.uniform(-5, 5, size=1000)\n",
    "    params_snd = np.random.uniform(-5, 5, size=1000)\n",
    "    \n",
    "    data_fst = np.random.normal(10, 5, size=10000).reshape((1000, 10)) + params_fst[:, np.newaxis]\n",
    "    data_fst = data_fst.reshape((10000,))\n",
    "    data_snd = np.random.normal(10, 1, size=10000).reshape((1000, 10)) + params_snd[:, np.newaxis]\n",
    "    data_snd = data_snd.reshape((10000,))\n",
    "    \n",
    "    count += 1\n",
    "    if scipy.stats.ttest_ind(data_fst, data_snd, equal_var=False).pvalue < 0.05:\n",
    "        hits += 1\n",
    "\n",
    "print(hits / count)"
   ]
  },
  {
   "cell_type": "code",
   "execution_count": null,
   "metadata": {
    "ExecuteTime": {
     "end_time": "2021-07-31T12:55:37.018982Z",
     "start_time": "2021-07-31T12:55:28.352952Z"
    }
   },
   "outputs": [],
   "source": [
    "hits = 0.\n",
    "count = 0.\n",
    "\n",
    "for _ in range(10000):\n",
    "    params_fst = np.random.uniform(-1, 1, size=1000)\n",
    "    params_snd = np.random.uniform(-1, 1, size=1000)\n",
    "    \n",
    "    data_fst = np.random.normal(10.1, 5, size=10000).reshape((1000, 10)) + params_fst[:, np.newaxis]\n",
    "    data_fst = data_fst.reshape((10000,))\n",
    "    data_snd = np.random.normal(10, 1, size=10000).reshape((1000, 10)) + params_snd[:, np.newaxis]\n",
    "    data_snd = data_snd.reshape((10000,))\n",
    "    \n",
    "    count += 1\n",
    "    if scipy.stats.ttest_ind(data_fst, data_snd, equal_var=False).pvalue < 0.05:\n",
    "        hits += 1\n",
    "\n",
    "print(hits / count)"
   ]
  },
  {
   "cell_type": "markdown",
   "metadata": {},
   "source": [
    "беда("
   ]
  },
  {
   "cell_type": "code",
   "execution_count": null,
   "metadata": {
    "ExecuteTime": {
     "end_time": "2021-07-31T12:57:00.377471Z",
     "start_time": "2021-07-31T12:56:51.490828Z"
    }
   },
   "outputs": [],
   "source": [
    "hits = 0.\n",
    "count = 0.\n",
    "\n",
    "for _ in range(10000):\n",
    "    params_fst = np.random.uniform(-5, 5, size=1000)\n",
    "    params_snd = np.random.uniform(-5, 5, size=1000)\n",
    "    \n",
    "    data_fst = np.random.normal(10, 5, size=10000).reshape((1000, 10)) + params_fst[:, np.newaxis]\n",
    "    data_fst = data_fst.reshape((10000,)).reshape((100, 100)).mean(axis=1)\n",
    "    data_snd = np.random.normal(10, 1, size=10000).reshape((1000, 10)) + params_snd[:, np.newaxis]\n",
    "    data_snd = data_snd.reshape((10000,)).reshape((100, 100)).mean(axis=1)\n",
    "    \n",
    "    count += 1\n",
    "    if scipy.stats.ttest_ind(data_fst, data_snd, equal_var=False).pvalue < 0.05:\n",
    "        hits += 1\n",
    "\n",
    "print(hits / count)"
   ]
  },
  {
   "cell_type": "code",
   "execution_count": null,
   "metadata": {
    "ExecuteTime": {
     "end_time": "2021-07-31T12:57:08.910178Z",
     "start_time": "2021-07-31T12:57:00.379485Z"
    }
   },
   "outputs": [],
   "source": [
    "hits = 0.\n",
    "count = 0.\n",
    "\n",
    "for _ in range(10000):\n",
    "    params_fst = np.random.uniform(-5, 5, size=1000)\n",
    "    params_snd = np.random.uniform(-5, 5, size=1000)\n",
    "    \n",
    "    data_fst = np.random.normal(10.1, 5, size=10000).reshape((1000, 10)) + params_fst[:, np.newaxis]\n",
    "    data_fst = data_fst.reshape((10000,)).reshape((100, 100)).mean(axis=1)\n",
    "    data_snd = np.random.normal(10, 1, size=10000).reshape((1000, 10)) + params_snd[:, np.newaxis]\n",
    "    data_snd = data_snd.reshape((10000,)).reshape((100, 100)).mean(axis=1)\n",
    "    \n",
    "    count += 1\n",
    "    if scipy.stats.ttest_ind(data_fst, data_snd, equal_var=False).pvalue < 0.05:\n",
    "        hits += 1\n",
    "\n",
    "print(hits / count)"
   ]
  },
  {
   "cell_type": "code",
   "execution_count": null,
   "metadata": {
    "ExecuteTime": {
     "end_time": "2021-07-31T12:58:05.436554Z",
     "start_time": "2021-07-31T12:57:55.774931Z"
    }
   },
   "outputs": [],
   "source": [
    "hits = 0.\n",
    "count = 0.\n",
    "\n",
    "for _ in range(10000):\n",
    "    params_fst = np.random.uniform(-1, 1, size=1000)\n",
    "    params_snd = np.random.uniform(-1, 1, size=1000)\n",
    "    \n",
    "    data_fst = np.random.normal(10.1, 5, size=10000).reshape((1000, 10)) + params_fst[:, np.newaxis]\n",
    "    data_fst = data_fst.reshape((10000,)).reshape((100, 100)).mean(axis=1)\n",
    "    data_snd = np.random.normal(10, 1, size=10000).reshape((1000, 10)) + params_snd[:, np.newaxis]\n",
    "    data_snd = data_snd.reshape((10000,)).reshape((100, 100)).mean(axis=1)\n",
    "    \n",
    "    count += 1\n",
    "    if scipy.stats.ttest_ind(data_fst, data_snd, equal_var=False).pvalue < 0.05:\n",
    "        hits += 1\n",
    "\n",
    "print(hits / count)"
   ]
  },
  {
   "cell_type": "code",
   "execution_count": null,
   "metadata": {
    "ExecuteTime": {
     "end_time": "2021-07-31T12:58:14.670659Z",
     "start_time": "2021-07-31T12:58:05.438184Z"
    }
   },
   "outputs": [],
   "source": [
    "hits = 0.\n",
    "count = 0.\n",
    "\n",
    "for _ in range(10000):\n",
    "    params_fst = np.random.uniform(-10, 10, size=1000)\n",
    "    params_snd = np.random.uniform(-10, 10, size=1000)\n",
    "    \n",
    "    data_fst = np.random.normal(11, 5, size=10000).reshape((1000, 10)) + params_fst[:, np.newaxis]\n",
    "    data_fst = data_fst.reshape((10000,)).reshape((100, 100)).mean(axis=1)\n",
    "    data_snd = np.random.normal(10, 1, size=10000).reshape((1000, 10)) + params_snd[:, np.newaxis]\n",
    "    data_snd = data_snd.reshape((10000,)).reshape((100, 100)).mean(axis=1)\n",
    "    \n",
    "    count += 1\n",
    "    if scipy.stats.ttest_ind(data_fst, data_snd, equal_var=False).pvalue < 0.05:\n",
    "        hits += 1\n",
    "\n",
    "print(hits / count)"
   ]
  }
 ],
 "metadata": {
  "kernelspec": {
   "display_name": "Python 3 (ipykernel)",
   "language": "python",
   "name": "python3"
  },
  "language_info": {
   "codemirror_mode": {
    "name": "ipython",
    "version": 3
   },
   "file_extension": ".py",
   "mimetype": "text/x-python",
   "name": "python",
   "nbconvert_exporter": "python",
   "pygments_lexer": "ipython3",
   "version": "3.9.18"
  }
 },
 "nbformat": 4,
 "nbformat_minor": 4
}
